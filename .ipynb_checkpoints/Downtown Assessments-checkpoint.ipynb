{
 "cells": [
  {
   "cell_type": "markdown",
   "metadata": {},
   "source": [
    "# Mapping the assessed value of properties on the downtown mall over time"
   ]
  },
  {
   "cell_type": "markdown",
   "metadata": {},
   "source": [
    "# insert section on going through the data science process"
   ]
  },
  {
   "cell_type": "markdown",
   "metadata": {},
   "source": [
    "## Obtaining Data\n",
    " \n",
    "### Determining which properties to include in the analysis\n",
    "\n",
    "* Charlottesville GIS Viewer: https://gisweb.charlottesville.org/GisViewer/\n",
    "\n",
    "* Under Map option, turn on 'Parcels & Buildings' > 'Parcels'. Turn everything else off.\n",
    "\n",
    "* Zoom to area of interest on map\n",
    "\n",
    "* Under 'Tools' select 'Identify'\n",
    "\n",
    "* In 'Identify' toolbar select 'Custom Shape' and under 'Layer' select 'Parcels'\n",
    "\n",
    "* Using mouse on map, click boundary around area of interest\n",
    "\n",
    "* A list will appear in the left panel of the web page\n",
    "\n",
    "* In the panel click 'Tools' > 'Export All to Excel'\n",
    "\n",
    "* A window named 'Export Results' will open when your download is ready.\n",
    "\n",
    "* Click 'View Export' and save file to your project directory\n",
    "\n",
    "\n",
    "<img src=\"getting_pin_list.png\">"
   ]
  },
  {
   "cell_type": "markdown",
   "metadata": {},
   "source": [
    "## Looking at the .xls retrieved from the GIS Viewer"
   ]
  },
  {
   "cell_type": "code",
   "execution_count": 1,
   "metadata": {},
   "outputs": [],
   "source": [
    "#Import pandas module\n",
    "import pandas as pd \n",
    "\n",
    "#Path to the .xls retrieve from the GIS Viewer\n",
    "file = r'/home/bob/projects/assessments/pin_exp.xls'\n",
    "\n",
    "#Create a dataframe that reads the .xls file\n",
    "df = pd.read_excel(file)"
   ]
  },
  {
   "cell_type": "markdown",
   "metadata": {},
   "source": [
    "### Let's look at the first 5 rows of our .xls"
   ]
  },
  {
   "cell_type": "code",
   "execution_count": 2,
   "metadata": {},
   "outputs": [
    {
     "name": "stdout",
     "output_type": "stream",
     "text": [
      "                  FullAddress  OBJECTID        PIN   GPIN ParcelNumber  \\\n",
      "0                0 3RD ST SE   24846953  280036300   7309    280036300   \n",
      "1              0 E MARKET ST   24848655  330245100  14744    330245100   \n",
      "2  0 W MARKET ST & 2ND ST NW   24841086  330262000   6656    330262000   \n",
      "3              100 5TH ST SE   24845005  530065300   7426    530065300   \n",
      "4              100 E MAIN ST   24839773  280020000   7021    280020000   \n",
      "\n",
      "                                     OwnerName  CurrentAssessedValue  \\\n",
      "0                            LITTLE MOOSE, LLC                204100   \n",
      "1           FIRST AND MAIN CHARLOTTESVILLE LLC               1122200   \n",
      "2  SPENCER, HAWES, ETAL, TR PROTICO PROP LD TR                418400   \n",
      "3           MAIN, RALPH TR OF BLACK DUCK LD TR                664000   \n",
      "4               ONE HUNDRED EAST MAIN LTD PART               1904200   \n",
      "\n",
      "  CurrentTaxYear CurrentAssessedValueWithLabel  \\\n",
      "0    2019 Value:          2019 Value:  204,100   \n",
      "1    2019 Value:        2019 Value:  1,122,200   \n",
      "2    2019 Value:          2019 Value:  418,400   \n",
      "3    2019 Value:          2019 Value:  664,000   \n",
      "4    2019 Value:        2019 Value:  1,904,200   \n",
      "\n",
      "                                         PicturePath  ... MULTIPIN  \\\n",
      "0  http://realestate.charlottesville.org/IMAGES\\P...  ...      NaN   \n",
      "1                                                NaN  ...      NaN   \n",
      "2  http://realestate.charlottesville.org/IMAGES\\P...  ...      NaN   \n",
      "3  http://realestate.charlottesville.org/IMAGES\\P...  ...      NaN   \n",
      "4  http://realestate.charlottesville.org/IMAGES\\P...  ...      NaN   \n",
      "\n",
      "         OwnerAddress      OwnerCityState  OwnerZipCode SHAPE.STArea()  \\\n",
      "0        P O BOX 4226  CHARLOTTESVILLE VA         22905       1110.750   \n",
      "1  224 14TH STREET NW  CHARLOTTESVILLE VA         22903      11316.250   \n",
      "2       700 E HIGH ST  CHARLOTTESVILLE VA         22902       3802.250   \n",
      "3        P O BOX 2378  CHARLOTTESVILLE VA         22902        787.375   \n",
      "4        MSC BOX 5186  CHARLOTTESVILLE VA         22905       5102.750   \n",
      "\n",
      "  SHAPE.STLength() cvGIS.CITY.parcel_area.CreatedBy  \\\n",
      "0       178.976929                              NaN   \n",
      "1       425.844859                              NaN   \n",
      "2       254.696684                              NaN   \n",
      "3       118.075826                              NaN   \n",
      "4       418.086500                              NaN   \n",
      "\n",
      "   cvGIS.CITY.parcel_area.CreatedDate  cvGIS.CITY.parcel_area.ModifiedBy  \\\n",
      "0                                 NaN                                NaN   \n",
      "1                                 NaN                                NaN   \n",
      "2                                 NaN                                NaN   \n",
      "3                                 NaN                                NaN   \n",
      "4                                 NaN                                NaN   \n",
      "\n",
      "  cvGIS.CITY.parcel_area.ModifiedDate  \n",
      "0                                 NaN  \n",
      "1                                 NaN  \n",
      "2                                 NaN  \n",
      "3                                 NaN  \n",
      "4                                 NaN  \n",
      "\n",
      "[5 rows x 23 columns]\n"
     ]
    }
   ],
   "source": [
    "#Print the first 5 rows\n",
    "print(df.head())"
   ]
  },
  {
   "cell_type": "markdown",
   "metadata": {},
   "source": [
    "We can quickly see what is provided by this .xls sheet and the general format of the data it contains. We can see that there are 23 columns by the 5 rows x 23 columns line printed at the end of .head(). "
   ]
  },
  {
   "cell_type": "markdown",
   "metadata": {},
   "source": [
    "Let's take a closer look at the column PIN"
   ]
  },
  {
   "cell_type": "code",
   "execution_count": 3,
   "metadata": {},
   "outputs": [
    {
     "name": "stdout",
     "output_type": "stream",
     "text": [
      "0      280036300\n",
      "1      330245100\n",
      "2      330262000\n",
      "3      530065300\n",
      "4      280020000\n",
      "5      280019000\n",
      "6      280020100\n",
      "7      330255000\n",
      "8      330248000\n",
      "9      530065400\n",
      "10     280021000\n",
      "11     330244000\n",
      "12     280051A00\n",
      "13     530065500\n",
      "14     280022000\n",
      "15     330232000\n",
      "16     330256000\n",
      "17     530065600\n",
      "18     280051B00\n",
      "19     330241000\n",
      "20     280016100\n",
      "21     530058000\n",
      "22     530065700\n",
      "23     280026100\n",
      "24     330258000\n",
      "25     280013000\n",
      "26     530057000\n",
      "27     330242000\n",
      "28     280023000\n",
      "29     330278000\n",
      "         ...    \n",
      "177    530072000\n",
      "178    530072000\n",
      "179    530072000\n",
      "180    530072000\n",
      "181    530072000\n",
      "182    530072000\n",
      "183    530072000\n",
      "184    530072000\n",
      "185    530072000\n",
      "186    530072000\n",
      "187    530072000\n",
      "188    530072000\n",
      "189    530072000\n",
      "190    530072000\n",
      "191    530072000\n",
      "192    530072000\n",
      "193    530072000\n",
      "194    530072000\n",
      "195    530072000\n",
      "196    530072000\n",
      "197    280016000\n",
      "198    280016000\n",
      "199    280016000\n",
      "200    280016000\n",
      "201    280016000\n",
      "202    280016000\n",
      "203    280016000\n",
      "204    280016000\n",
      "205    280016000\n",
      "206    280016000\n",
      "Name: PIN, Length: 207, dtype: object\n",
      "(207,)\n"
     ]
    }
   ],
   "source": [
    "#Prints just the 'PIN' column of our data frame\n",
    "print(df['PIN'])\n",
    "#Prints the size of our data frame\n",
    "print(df['PIN'].shape)"
   ]
  },
  {
   "cell_type": "code",
   "execution_count": 4,
   "metadata": {},
   "outputs": [
    {
     "name": "stdout",
     "output_type": "stream",
     "text": [
      "[280036300 330245100 330262000 530065300 280020000 280019000 280020100\n",
      " 330255000 330248000 530065400 280021000 330244000 '280051A00' 530065500\n",
      " 280022000 330232000 330256000 530065600 '280051B00' 330241000 280016100\n",
      " 530058000 530065700 280026100 330258000 280013000 530057000 330242000\n",
      " 280023000 330278000 330225000 280018000 330254000 530056000 330224000\n",
      " 330259000 330222000 280024000 330265000 280028000 330260000 280025000\n",
      " 330245000 530160000 280026000 330261000 330219000 280027000 330243000\n",
      " 280010000 330263000 330240100 280031000 280012000 330266000 330240000\n",
      " 330238000 330270000 280034000 330271000 330268000 280035000 '330155L00'\n",
      " 330269000 280036000 330237000 280036200 330276000 330272000 330277000\n",
      " 330235000 '2800371C0' 330234000 330273000 330233000 330274000 280001000\n",
      " 330155300 330155100 280040000 330231000 330223000 330230000 330220000\n",
      " 280041000 330229000 280042000 330228000 330227000 280043000 330226000\n",
      " 280044000 280045000 530059000 280058000 280046000 280047000 280048000\n",
      " 530060000 280049000 530054000 530061000 280050000 530062000 280051000\n",
      " 280052000 530065200 530065000 530067000 530074000 530068000 530075000\n",
      " 530070000 '530077A00' '530077B00' '530077C00' 530080000 530164000\n",
      " 330257100 530055000 530054101 530091000 '280037A00' 530064000 530072000\n",
      " 280016000]\n",
      "(126,)\n"
     ]
    }
   ],
   "source": [
    "#The dataframe looks like it contains all of the PIN's for the area, but it looks like there are duplucates\n",
    "#Let's call the same dataframe, but with the .unique() function, to isolate the unique values\n",
    "print(df['PIN'].unique())\n",
    "print(df['PIN'].unique().shape)"
   ]
  },
  {
   "cell_type": "markdown",
   "metadata": {},
   "source": [
    "Now we have a list of unique PIN's that we can use to build our desired Assessments over time dataframe from. Let's set this to it's own dataframe so we can easily call it in the future"
   ]
  },
  {
   "cell_type": "code",
   "execution_count": 5,
   "metadata": {},
   "outputs": [
    {
     "name": "stdout",
     "output_type": "stream",
     "text": [
      "             0\n",
      "0    280036300\n",
      "1    330245100\n",
      "2    330262000\n",
      "3    530065300\n",
      "4    280020000\n",
      "5    280019000\n",
      "6    280020100\n",
      "7    330255000\n",
      "8    330248000\n",
      "9    530065400\n",
      "10   280021000\n",
      "11   330244000\n",
      "12   280051A00\n",
      "13   530065500\n",
      "14   280022000\n",
      "15   330232000\n",
      "16   330256000\n",
      "17   530065600\n",
      "18   280051B00\n",
      "19   330241000\n",
      "20   280016100\n",
      "21   530058000\n",
      "22   530065700\n",
      "23   280026100\n",
      "24   330258000\n",
      "25   280013000\n",
      "26   530057000\n",
      "27   330242000\n",
      "28   280023000\n",
      "29   330278000\n",
      "..         ...\n",
      "96   280047000\n",
      "97   280048000\n",
      "98   530060000\n",
      "99   280049000\n",
      "100  530054000\n",
      "101  530061000\n",
      "102  280050000\n",
      "103  530062000\n",
      "104  280051000\n",
      "105  280052000\n",
      "106  530065200\n",
      "107  530065000\n",
      "108  530067000\n",
      "109  530074000\n",
      "110  530068000\n",
      "111  530075000\n",
      "112  530070000\n",
      "113  530077A00\n",
      "114  530077B00\n",
      "115  530077C00\n",
      "116  530080000\n",
      "117  530164000\n",
      "118  330257100\n",
      "119  530055000\n",
      "120  530054101\n",
      "121  530091000\n",
      "122  280037A00\n",
      "123  530064000\n",
      "124  530072000\n",
      "125  280016000\n",
      "\n",
      "[126 rows x 1 columns]\n"
     ]
    }
   ],
   "source": [
    "unique_pins_df = pd.DataFrame(df['PIN'].unique())\n",
    "print(unique_pins_df)"
   ]
  },
  {
   "cell_type": "code",
   "execution_count": null,
   "metadata": {},
   "outputs": [],
   "source": []
  },
  {
   "cell_type": "markdown",
   "metadata": {},
   "source": [
    "## Obtaining annual assessment data"
   ]
  },
  {
   "cell_type": "markdown",
   "metadata": {},
   "source": [
    "Charlottesville's Open Data Portal : http://opendata.charlottesville.org/\n",
    "\n",
    "Real Estate (All Assessments) Dataset : http://opendata.charlottesville.org/datasets/real-estate-all-assessments\n",
    "\n",
    "* On the Real Estate dataset page, in the upper right corner of the window under the map click the 'APIs' drop down\n",
    "* Copy the GeoJSON link\n",
    "* Use the GeoJSON link to pull data directly from the Open Data portal using the code below"
   ]
  },
  {
   "cell_type": "code",
   "execution_count": 6,
   "metadata": {},
   "outputs": [],
   "source": [
    "# importing the requests library \n",
    "import requests\n",
    "\n",
    "#api endpoint, copied from the API tab, under GeoJSON\n",
    "url = r'https://opendata.arcgis.com/datasets/b993cd4e2e1b4ba097fb58c90725f5da_2.geojson'\n",
    "url = r'https://gisweb.charlottesville.org/arcgis/rest/services/OpenData_2/MapServer/2/query?where=1%3D1&outFields=*&outSR=4326&f=json'\n",
    "# sending get request and saving the response as response object \n",
    "r = requests.get(url) \n",
    "\n",
    "# extracting data in json format \n",
    "data = r.json() "
   ]
  },
  {
   "cell_type": "markdown",
   "metadata": {},
   "source": [
    "Check data type"
   ]
  },
  {
   "cell_type": "code",
   "execution_count": 7,
   "metadata": {},
   "outputs": [
    {
     "name": "stdout",
     "output_type": "stream",
     "text": [
      "<class 'dict'>\n"
     ]
    }
   ],
   "source": [
    "print(type(data))"
   ]
  },
  {
   "cell_type": "markdown",
   "metadata": {},
   "source": [
    "Check length of data dictionary"
   ]
  },
  {
   "cell_type": "code",
   "execution_count": 8,
   "metadata": {},
   "outputs": [
    {
     "name": "stdout",
     "output_type": "stream",
     "text": [
      "2\n"
     ]
    }
   ],
   "source": [
    "print(len(data))"
   ]
  },
  {
   "cell_type": "markdown",
   "metadata": {},
   "source": [
    "print the keys in data"
   ]
  },
  {
   "cell_type": "code",
   "execution_count": 9,
   "metadata": {},
   "outputs": [
    {
     "name": "stdout",
     "output_type": "stream",
     "text": [
      "dict_keys(['type', 'features'])\n"
     ]
    }
   ],
   "source": [
    "print(data.keys())"
   ]
  },
  {
   "cell_type": "markdown",
   "metadata": {},
   "source": [
    "data has two keys: 'type' and 'features'"
   ]
  },
  {
   "cell_type": "markdown",
   "metadata": {},
   "source": [
    "print the first key: 'type'"
   ]
  },
  {
   "cell_type": "code",
   "execution_count": 10,
   "metadata": {},
   "outputs": [
    {
     "name": "stdout",
     "output_type": "stream",
     "text": [
      "FeatureCollection\n"
     ]
    }
   ],
   "source": [
    "print(data[\"type\"])"
   ]
  },
  {
   "cell_type": "markdown",
   "metadata": {},
   "source": [
    "Next, we want to print the second key 'features', but this code will print out all of the features in the API. \n",
    "It routinely crashing my computer due to it's size. \n",
    "\n",
    "We can find out how many data points there are by printing the number of features in data['features']"
   ]
  },
  {
   "cell_type": "code",
   "execution_count": 11,
   "metadata": {},
   "outputs": [
    {
     "name": "stdout",
     "output_type": "stream",
     "text": [
      "331443\n"
     ]
    }
   ],
   "source": [
    "print(len(data['features']))"
   ]
  },
  {
   "cell_type": "markdown",
   "metadata": {},
   "source": [
    "Similar to using .head() on our dataframe earlier, let's look at the first 5 values of data['features']"
   ]
  },
  {
   "cell_type": "code",
   "execution_count": 12,
   "metadata": {},
   "outputs": [
    {
     "name": "stdout",
     "output_type": "stream",
     "text": [
      "[{'type': 'Feature', 'properties': {'RecordID_Int': 1, 'ParcelNumber': '010001000', 'LandValue': 29172900, 'ImprovementValue': 149711300, 'TotalValue': 178884200, 'TaxYear': '2019', 'StreetName': 'EMMET ST N', 'StreetNumber': '1117', 'Unit': ''}, 'geometry': None}, {'type': 'Feature', 'properties': {'RecordID_Int': 2, 'ParcelNumber': '010001000', 'LandValue': 25005400, 'ImprovementValue': 146802400, 'TotalValue': 171807800, 'TaxYear': '2018', 'StreetName': 'EMMET ST N', 'StreetNumber': '1117', 'Unit': ''}, 'geometry': None}, {'type': 'Feature', 'properties': {'RecordID_Int': 3, 'ParcelNumber': '010001000', 'LandValue': 24449500, 'ImprovementValue': 142363700, 'TotalValue': 166813200, 'TaxYear': '2017', 'StreetName': 'EMMET ST N', 'StreetNumber': '1117', 'Unit': ''}, 'geometry': None}, {'type': 'Feature', 'properties': {'RecordID_Int': 4, 'ParcelNumber': '010001000', 'LandValue': 22848500, 'ImprovementValue': 100504900, 'TotalValue': 123353400, 'TaxYear': '2016', 'StreetName': 'EMMET ST N', 'StreetNumber': '1117', 'Unit': ''}, 'geometry': None}, {'type': 'Feature', 'properties': {'RecordID_Int': 5, 'ParcelNumber': '010001000', 'LandValue': 22848500, 'ImprovementValue': 98390000, 'TotalValue': 121238500, 'TaxYear': '2015', 'StreetName': 'EMMET ST N', 'StreetNumber': '1117', 'Unit': ''}, 'geometry': None}]\n"
     ]
    }
   ],
   "source": [
    "print(data[\"features\"][:5])"
   ]
  },
  {
   "cell_type": "markdown",
   "metadata": {},
   "source": [
    "After looking at the data, we can determine that we are interested in several of the keys. "
   ]
  },
  {
   "cell_type": "code",
   "execution_count": 13,
   "metadata": {},
   "outputs": [
    {
     "name": "stdout",
     "output_type": "stream",
     "text": [
      "ParcelNumber: 010001000\n",
      "TaxYear: 2019\n",
      "LandValue: 29172900\n",
      "ImprovementValue: 149711300\n",
      "\n",
      "ParcelNumber: 010001000\n",
      "TaxYear: 2018\n",
      "LandValue: 25005400\n",
      "ImprovementValue: 146802400\n",
      "\n",
      "ParcelNumber: 010001000\n",
      "TaxYear: 2017\n",
      "LandValue: 24449500\n",
      "ImprovementValue: 142363700\n",
      "\n",
      "ParcelNumber: 010001000\n",
      "TaxYear: 2016\n",
      "LandValue: 22848500\n",
      "ImprovementValue: 100504900\n",
      "\n",
      "ParcelNumber: 010001000\n",
      "TaxYear: 2015\n",
      "LandValue: 22848500\n",
      "ImprovementValue: 98390000\n",
      "\n"
     ]
    }
   ],
   "source": [
    "#Some key values we are going to want to look at are ParcelNumber, TaxYear, LandValue, and ImprovementValue\n",
    "keys_to_pull = ['ParcelNumber', 'TaxYear', 'LandValue', 'ImprovementValue']\n",
    "\n",
    "#for the first five values in data['features']\n",
    "for values in data['features'][0:5]: \n",
    "    #print(values['properties'].keys())\n",
    "    #print(values['properties'].items())\n",
    "    #for each key in keys_to_pull\n",
    "    for key_to_pull in keys_to_pull:\n",
    "        #print the value at key\n",
    "        print(f\"{key_to_pull}: {values['properties'].get(key_to_pull)}\")\n",
    "    print()"
   ]
  },
  {
   "cell_type": "markdown",
   "metadata": {},
   "source": [
    "After taking a look at that historic assessment records data from the GeoJSON we can see a lot of similarities between the .xls file we pulled prevoiusly. A <i>key</i> match up is that both the .xls data and the GeoJSON data have a field in common. In the .xls there is a PIN field and in the GeoJSON there is a ParcelNumber field. We should be able to use this common key to join the two tables.\n",
    "\n",
    "331,441 features is a lot of data to work with, next we will figure out how to only pull out the values outlined in our .xls from our API"
   ]
  },
  {
   "cell_type": "code",
   "execution_count": null,
   "metadata": {},
   "outputs": [],
   "source": [
    "#api endpoint, copied from the API tab, under GeoJSON\n",
    "url = r'https://gisweb.charlottesville.org/arcgis/rest/services/OpenData_2/MapServer/2/query?where=1%3D1&outFields=*&outSR=4326&f=json'\n",
    "\n",
    "# sending get request and saving the response as response object \n",
    "r = requests.get(url) \n",
    "\n",
    "# extracting data in json format \n",
    "data = r.json() \n",
    "\n",
    "payload_tuples = [('key1', 'value1'), ('key1', 'value2')]\n",
    "r1 = requests.get('https://httpbin.org/post', data=payload_tuples)"
   ]
  }
 ],
 "metadata": {
  "kernelspec": {
   "display_name": "Python 3",
   "language": "python",
   "name": "python3"
  },
  "language_info": {
   "codemirror_mode": {
    "name": "ipython",
    "version": 3
   },
   "file_extension": ".py",
   "mimetype": "text/x-python",
   "name": "python",
   "nbconvert_exporter": "python",
   "pygments_lexer": "ipython3",
   "version": "3.7.3"
  }
 },
 "nbformat": 4,
 "nbformat_minor": 2
}
