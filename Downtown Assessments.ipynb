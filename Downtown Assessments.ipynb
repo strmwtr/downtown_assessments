{
 "cells": [
  {
   "cell_type": "markdown",
   "metadata": {},
   "source": [
    "# Analyzing Assessed Value of the Downtown Mall"
   ]
  },
  {
   "cell_type": "markdown",
   "metadata": {},
   "source": [
    "## Goals: \n",
    "\n",
    "    *Provide descriptive statistics of assessed value over time for the City of Charlottesville's downtown mall\n",
    "\n",
    "    *Map and chart assessed values over time"
   ]
  },
  {
   "cell_type": "markdown",
   "metadata": {},
   "source": [
    "## Step 1: Aquire Data"
   ]
  },
  {
   "cell_type": "markdown",
   "metadata": {},
   "source": [
    "### Assessment Values\n",
    "    Charlottesville's Open Data Portal : http://opendata.charlottesville.org/\n",
    "\n",
    "    Real Estate (All Assessments) Dataset : http://opendata.charlottesville.org/datasets/real-estate-all-assessments\n",
    "\n",
    "        * On the Real Estate dataset page, in the upper right corner of the window under the map click the APIs             drop down\n",
    "        * Copy the GeoJSON link\n",
    "        * Use the GeoJSON link to pull data directly from the Open Data portal using the code below\n",
    "\n",
    "    Parcel Area Data : http://opendata.charlottesville.org/datasets/parcel-boundary-area\n",
    "\n",
    "### List of properties to use in analysis\n",
    "\n",
    "Charlottesville GIS Viewer: https://gisweb.charlottesville.org/GisViewer/\n",
    "\n",
    "    * Under Map option, turn on 'Parcels & Buildings' > 'Parcels'. Turn everything else off.\n",
    "\n",
    "    * Zoom to area of interest on map\n",
    "\n",
    "    * Under 'Tools' select 'Identify'\n",
    "\n",
    "    * In 'Identify' toolbar select 'Custom Shape' and under 'Layer' select 'Parcels'\n",
    "\n",
    "    * Using mouse on map, click boundary around area of interest\n",
    "\n",
    "    * A list will appear in the left panel of the web page\n",
    "\n",
    "    * In the panel click 'Tools' > 'Export All to Excel'\n",
    "\n",
    "    * A window named 'Export Results' will open when your download is ready.\n",
    "\n",
    "    * Click 'View Export' and save file to your project directory\n",
    "\n",
    "<img src=\"https://github.com/strmwtr/downtown_assessments/blob/master/img/getting_pin_list.png?raw=true\">"
   ]
  },
  {
   "cell_type": "markdown",
   "metadata": {},
   "source": [
    "# Step 2: Prepare Data"
   ]
  },
  {
   "cell_type": "markdown",
   "metadata": {},
   "source": [
    "## Import .xls retrieved from the GIS Viewer into pandas"
   ]
  },
  {
   "cell_type": "code",
   "execution_count": 1,
   "metadata": {},
   "outputs": [],
   "source": [
    "#Import pandas module\n",
    "import pandas as pd \n",
    "\n",
    "#Path to the .xls retrieve from the GIS Viewer\n",
    "f = r'./data/pin_exp.xls'\n",
    "\n",
    "#Create a dataframe that reads the .xls file\n",
    "df = pd.read_excel(f)"
   ]
  },
  {
   "cell_type": "markdown",
   "metadata": {},
   "source": [
    "#### Remove all MULTIPIN parcels from df"
   ]
  },
  {
   "cell_type": "code",
   "execution_count": 2,
   "metadata": {},
   "outputs": [],
   "source": [
    "#Identify all rows in df where MULTIPIN column is not equal to 1\n",
    "not_multipin = df['MULTIPIN'] != 1\n",
    "#Create a new dataframe that only contains the rows identified in not_multipin\n",
    "df = df[not_multipin]\n",
    "#df.head()"
   ]
  },
  {
   "cell_type": "markdown",
   "metadata": {},
   "source": [
    "## Access json file for parcel areas"
   ]
  },
  {
   "cell_type": "code",
   "execution_count": 3,
   "metadata": {},
   "outputs": [],
   "source": [
    "formatted_gpins = [str(x) for x in df['GPIN'].unique()]\n",
    "formatted_gpins = formatted_gpins\n",
    "formatted_gpins = ','.join(formatted_gpins)\n",
    "\n",
    "parcel_area_url = f\"https://gisweb.charlottesville.org/arcgis/rest/services/OpenData_1/MapServer/43/query?where=GPIN%20in%20({formatted_gpins})&outFields=*&outSR=4326&f=json\"\n",
    "\n",
    "#print(parcel_area_url)"
   ]
  },
  {
   "cell_type": "markdown",
   "metadata": {},
   "source": [
    "## Preparing annual assessment data\n",
    "\n",
    "Charlottesville's Open Data Portal : http://opendata.charlottesville.org/\n",
    "\n",
    "Real Estate (All Assessments) Dataset : http://opendata.charlottesville.org/datasets/real-estate-all-assessments\n",
    "\n",
    "* On the Real Estate dataset page, in the upper right corner of the window under the map click the 'API Explorer' tab\n",
    "* Copy the Query URL link and augment the link to match your query\n",
    "* Use the augmented link to pull data directly from the Open Data portal using the code below"
   ]
  },
  {
   "cell_type": "code",
   "execution_count": 4,
   "metadata": {
    "scrolled": true
   },
   "outputs": [],
   "source": [
    "# importing the requests library \n",
    "import requests\n",
    "\n",
    "formatted_pins = [f'%27{x}%27' for x in df['PIN'].unique()]\n",
    "formatted_pins_1 = formatted_pins\n",
    "formatted_pins_1 = ','.join(formatted_pins_1)\n",
    "\n",
    "url1 = f\"https://gisweb.charlottesville.org/arcgis/rest/services/OpenData_2/MapServer/2/query?where=UPPER(ParcelNumber)%20in%20({formatted_pins_1})%20&outFields=ParcelNumber,LandValue,ImprovementValue,TotalValue,TaxYear&outSR=4326&f=json\"\n",
    "\n",
    "r1 = requests.get(url1)\n",
    "\n",
    "d1 = r1.json()\n",
    "\n",
    "#print(r1)"
   ]
  },
  {
   "cell_type": "markdown",
   "metadata": {},
   "source": [
    "After testing the requests.get(url), I can request up to 120 parcels at a time before recieving a 404 Error. I have 126 parcels of interest. I will break my request up into 2 parts, [:75] and [75:]."
   ]
  },
  {
   "cell_type": "markdown",
   "metadata": {},
   "source": [
    "## Create data series based on features and combine data frames into a single df"
   ]
  },
  {
   "cell_type": "code",
   "execution_count": 5,
   "metadata": {},
   "outputs": [],
   "source": [
    "df1 = pd.DataFrame(d1['features'])"
   ]
  },
  {
   "cell_type": "markdown",
   "metadata": {},
   "source": [
    "## Create a single data frame based on combined series data"
   ]
  },
  {
   "cell_type": "code",
   "execution_count": 6,
   "metadata": {},
   "outputs": [],
   "source": [
    "assessments = pd.DataFrame([x for x in df1['attributes']], dtype = 'object')\n",
    "assessments = assessments.astype({'TaxYear': 'int64', 'ImprovementValue': 'int64','LandValue': 'int64','TotalValue': 'int64', 'ParcelNumber': 'str'})\n",
    "#assessments.head()"
   ]
  },
  {
   "cell_type": "markdown",
   "metadata": {},
   "source": [
    "## Create data frame from df that holds PIN and GPIN. Will be used to joined assessments, so that parcel area can be joined with assessments"
   ]
  },
  {
   "cell_type": "code",
   "execution_count": 7,
   "metadata": {},
   "outputs": [],
   "source": [
    "df_key = pd.DataFrame(df[['PIN','GPIN']], dtype = 'str')\n",
    "#df_key.head()"
   ]
  },
  {
   "cell_type": "code",
   "execution_count": 8,
   "metadata": {},
   "outputs": [],
   "source": [
    "d = pd.merge(assessments, df_key, how='inner', left_on=['ParcelNumber'], right_on=['PIN'])\n",
    "#print(assessments.shape, d.shape)"
   ]
  },
  {
   "cell_type": "markdown",
   "metadata": {},
   "source": [
    "# Step 3: Analyze"
   ]
  },
  {
   "cell_type": "code",
   "execution_count": 13,
   "metadata": {},
   "outputs": [
    {
     "ename": "AssertionError",
     "evalue": "9 columns passed, passed data had 10 columns",
     "output_type": "error",
     "traceback": [
      "\u001b[0;31m---------------------------------------------------------------------------\u001b[0m",
      "\u001b[0;31mAssertionError\u001b[0m                            Traceback (most recent call last)",
      "\u001b[0;32m<ipython-input-13-c572f899dd21>\u001b[0m in \u001b[0;36m<module>\u001b[0;34m\u001b[0m\n\u001b[1;32m     26\u001b[0m                          \u001b[0;34m'Min Land Value'\u001b[0m\u001b[0;34m,\u001b[0m \u001b[0;34m'Min Improvement Value'\u001b[0m\u001b[0;34m,\u001b[0m \u001b[0;34m'Min Total Value'\u001b[0m\u001b[0;34m\u001b[0m\u001b[0;34m\u001b[0m\u001b[0m\n\u001b[1;32m     27\u001b[0m                          'Max Land Value', 'Max Improvement Value', 'Max Total Value']\n\u001b[0;32m---> 28\u001b[0;31m \u001b[0massessment_chart_df\u001b[0m \u001b[0;34m=\u001b[0m \u001b[0mpd\u001b[0m\u001b[0;34m.\u001b[0m\u001b[0mDataFrame\u001b[0m\u001b[0;34m(\u001b[0m\u001b[0massessment_chart_list\u001b[0m\u001b[0;34m,\u001b[0m \u001b[0mcolumns\u001b[0m \u001b[0;34m=\u001b[0m \u001b[0massessment_chart_cols\u001b[0m\u001b[0;34m)\u001b[0m\u001b[0;34m\u001b[0m\u001b[0;34m\u001b[0m\u001b[0m\n\u001b[0m\u001b[1;32m     29\u001b[0m \u001b[0massessment_chart_df\u001b[0m\u001b[0;34m\u001b[0m\u001b[0;34m\u001b[0m\u001b[0m\n\u001b[1;32m     30\u001b[0m \u001b[0;31m#mean_total_vals = [d['TotalValue'][d['TaxYear'] == x].mean() for x in years]\u001b[0m\u001b[0;34m\u001b[0m\u001b[0;34m\u001b[0m\u001b[0;34m\u001b[0m\u001b[0m\n",
      "\u001b[0;32m~/anaconda3/lib/python3.7/site-packages/pandas/core/frame.py\u001b[0m in \u001b[0;36m__init__\u001b[0;34m(self, data, index, columns, dtype, copy)\u001b[0m\n\u001b[1;32m    433\u001b[0m                     \u001b[0;32mif\u001b[0m \u001b[0mis_named_tuple\u001b[0m\u001b[0;34m(\u001b[0m\u001b[0mdata\u001b[0m\u001b[0;34m[\u001b[0m\u001b[0;36m0\u001b[0m\u001b[0;34m]\u001b[0m\u001b[0;34m)\u001b[0m \u001b[0;32mand\u001b[0m \u001b[0mcolumns\u001b[0m \u001b[0;32mis\u001b[0m \u001b[0;32mNone\u001b[0m\u001b[0;34m:\u001b[0m\u001b[0;34m\u001b[0m\u001b[0;34m\u001b[0m\u001b[0m\n\u001b[1;32m    434\u001b[0m                         \u001b[0mcolumns\u001b[0m \u001b[0;34m=\u001b[0m \u001b[0mdata\u001b[0m\u001b[0;34m[\u001b[0m\u001b[0;36m0\u001b[0m\u001b[0;34m]\u001b[0m\u001b[0;34m.\u001b[0m\u001b[0m_fields\u001b[0m\u001b[0;34m\u001b[0m\u001b[0;34m\u001b[0m\u001b[0m\n\u001b[0;32m--> 435\u001b[0;31m                     \u001b[0marrays\u001b[0m\u001b[0;34m,\u001b[0m \u001b[0mcolumns\u001b[0m \u001b[0;34m=\u001b[0m \u001b[0mto_arrays\u001b[0m\u001b[0;34m(\u001b[0m\u001b[0mdata\u001b[0m\u001b[0;34m,\u001b[0m \u001b[0mcolumns\u001b[0m\u001b[0;34m,\u001b[0m \u001b[0mdtype\u001b[0m\u001b[0;34m=\u001b[0m\u001b[0mdtype\u001b[0m\u001b[0;34m)\u001b[0m\u001b[0;34m\u001b[0m\u001b[0;34m\u001b[0m\u001b[0m\n\u001b[0m\u001b[1;32m    436\u001b[0m                     \u001b[0mcolumns\u001b[0m \u001b[0;34m=\u001b[0m \u001b[0mensure_index\u001b[0m\u001b[0;34m(\u001b[0m\u001b[0mcolumns\u001b[0m\u001b[0;34m)\u001b[0m\u001b[0;34m\u001b[0m\u001b[0;34m\u001b[0m\u001b[0m\n\u001b[1;32m    437\u001b[0m \u001b[0;34m\u001b[0m\u001b[0m\n",
      "\u001b[0;32m~/anaconda3/lib/python3.7/site-packages/pandas/core/internals/construction.py\u001b[0m in \u001b[0;36mto_arrays\u001b[0;34m(data, columns, coerce_float, dtype)\u001b[0m\n\u001b[1;32m    402\u001b[0m     \u001b[0;32mif\u001b[0m \u001b[0misinstance\u001b[0m\u001b[0;34m(\u001b[0m\u001b[0mdata\u001b[0m\u001b[0;34m[\u001b[0m\u001b[0;36m0\u001b[0m\u001b[0;34m]\u001b[0m\u001b[0;34m,\u001b[0m \u001b[0;34m(\u001b[0m\u001b[0mlist\u001b[0m\u001b[0;34m,\u001b[0m \u001b[0mtuple\u001b[0m\u001b[0;34m)\u001b[0m\u001b[0;34m)\u001b[0m\u001b[0;34m:\u001b[0m\u001b[0;34m\u001b[0m\u001b[0;34m\u001b[0m\u001b[0m\n\u001b[1;32m    403\u001b[0m         return _list_to_arrays(data, columns, coerce_float=coerce_float,\n\u001b[0;32m--> 404\u001b[0;31m                                dtype=dtype)\n\u001b[0m\u001b[1;32m    405\u001b[0m     \u001b[0;32melif\u001b[0m \u001b[0misinstance\u001b[0m\u001b[0;34m(\u001b[0m\u001b[0mdata\u001b[0m\u001b[0;34m[\u001b[0m\u001b[0;36m0\u001b[0m\u001b[0;34m]\u001b[0m\u001b[0;34m,\u001b[0m \u001b[0mcompat\u001b[0m\u001b[0;34m.\u001b[0m\u001b[0mMapping\u001b[0m\u001b[0;34m)\u001b[0m\u001b[0;34m:\u001b[0m\u001b[0;34m\u001b[0m\u001b[0;34m\u001b[0m\u001b[0m\n\u001b[1;32m    406\u001b[0m         return _list_of_dict_to_arrays(data, columns,\n",
      "\u001b[0;32m~/anaconda3/lib/python3.7/site-packages/pandas/core/internals/construction.py\u001b[0m in \u001b[0;36m_list_to_arrays\u001b[0;34m(data, columns, coerce_float, dtype)\u001b[0m\n\u001b[1;32m    434\u001b[0m         \u001b[0mcontent\u001b[0m \u001b[0;34m=\u001b[0m \u001b[0mlist\u001b[0m\u001b[0;34m(\u001b[0m\u001b[0mlib\u001b[0m\u001b[0;34m.\u001b[0m\u001b[0mto_object_array\u001b[0m\u001b[0;34m(\u001b[0m\u001b[0mdata\u001b[0m\u001b[0;34m)\u001b[0m\u001b[0;34m.\u001b[0m\u001b[0mT\u001b[0m\u001b[0;34m)\u001b[0m\u001b[0;34m\u001b[0m\u001b[0;34m\u001b[0m\u001b[0m\n\u001b[1;32m    435\u001b[0m     return _convert_object_array(content, columns, dtype=dtype,\n\u001b[0;32m--> 436\u001b[0;31m                                  coerce_float=coerce_float)\n\u001b[0m\u001b[1;32m    437\u001b[0m \u001b[0;34m\u001b[0m\u001b[0m\n\u001b[1;32m    438\u001b[0m \u001b[0;34m\u001b[0m\u001b[0m\n",
      "\u001b[0;32m~/anaconda3/lib/python3.7/site-packages/pandas/core/internals/construction.py\u001b[0m in \u001b[0;36m_convert_object_array\u001b[0;34m(content, columns, coerce_float, dtype)\u001b[0m\n\u001b[1;32m    490\u001b[0m             raise AssertionError('{col:d} columns passed, passed data had '\n\u001b[1;32m    491\u001b[0m                                  '{con} columns'.format(col=len(columns),\n\u001b[0;32m--> 492\u001b[0;31m                                                         con=len(content)))\n\u001b[0m\u001b[1;32m    493\u001b[0m \u001b[0;34m\u001b[0m\u001b[0m\n\u001b[1;32m    494\u001b[0m     \u001b[0;31m# provide soft conversion of object dtypes\u001b[0m\u001b[0;34m\u001b[0m\u001b[0;34m\u001b[0m\u001b[0;34m\u001b[0m\u001b[0m\n",
      "\u001b[0;31mAssertionError\u001b[0m: 9 columns passed, passed data had 10 columns"
     ]
    }
   ],
   "source": [
    "#Create data frame of assessed values for all parcels by specified year\n",
    "year_min = int(d['TaxYear'].min())\n",
    "year_max = int(d['TaxYear'].max())\n",
    "years = (x for x in range(year_min, year_max+1))\n",
    "#total_val_col = d['TotalValue'][d['TaxYear'] == 2019].mean()\n",
    "assessment_chart_list = []\n",
    "for x in years:\n",
    "    year_col = x\n",
    "    land_col_mean = d['LandValue'][d['TaxYear'] == x].mean()\n",
    "    imp_col_mean = d['ImprovementValue'][d['TaxYear'] == x].mean()\n",
    "    total_col_mean = d['TotalValue'][d['TaxYear'] == x].mean()\n",
    "    \n",
    "    land_col_min = d['LandValue'][d['TaxYear'] == x].min()\n",
    "    imp_col_min = d['ImprovementValue'][d['TaxYear'] == x].min()\n",
    "    total_col_min = d['TotalValue'][d['TaxYear'] == x].min()\n",
    "    \n",
    "    land_col_max = d['LandValue'][d['TaxYear'] == x].max()\n",
    "    imp_col_max = d['ImprovementValue'][d['TaxYear'] == x].max()\n",
    "    total_col_max = d['TotalValue'][d['TaxYear'] == x].max()\n",
    "    \n",
    "    assessment_chart_list.append(\n",
    "        [year_col, land_col_mean, imp_col_mean, total_col_mean, land_col_min, imp_col_min, \n",
    "         total_col_min, land_col_max, imp_col_max, total_col_max])\n",
    "assessment_chart_cols = ['TaxYear', 'Mean Land Value', 'Mean Improvement Value', 'Mean Total Value',\n",
    "    'Min Land Value', 'Min Improvement Value', 'Min Total Value'\n",
    "                         'Max Land Value', 'Max Improvement Value', 'Max Total Value']\n",
    "assessment_chart_df = pd.DataFrame(assessment_chart_list, columns = assessment_chart_cols)\n",
    "assessment_chart_df\n",
    "#mean_total_vals = [d['TotalValue'][d['TaxYear'] == x].mean() for x in years]\n",
    "#x = d['ParcelNumber'].str.contains('2800371C0')\n",
    "#y = d[x].sort_values('TaxYear')\n",
    "#y.plot(x='TaxYear', y='TotalValue', figsize=(15,10), grid=True)"
   ]
  },
  {
   "cell_type": "code",
   "execution_count": null,
   "metadata": {},
   "outputs": [],
   "source": [
    "#Plot single parcel by tax year vs total value\n",
    "x = d['ParcelNumber'].str.contains('2800371C0')\n",
    "y = d[x].sort_values('TaxYear')\n",
    "y.plot(x='TaxYear', y='TotalValue', figsize=(15,10), grid=True)"
   ]
  },
  {
   "cell_type": "markdown",
   "metadata": {},
   "source": [
    "# Plot each parcels total, land, and improvement value across all years on 3 line graphs, one for each assessment type\n",
    "\n",
    "# Map the same data as above via folium\n",
    "\n",
    "# Create time lapse of maps"
   ]
  }
 ],
 "metadata": {
  "kernelspec": {
   "display_name": "Python 3",
   "language": "python",
   "name": "python3"
  },
  "language_info": {
   "codemirror_mode": {
    "name": "ipython",
    "version": 3
   },
   "file_extension": ".py",
   "mimetype": "text/x-python",
   "name": "python",
   "nbconvert_exporter": "python",
   "pygments_lexer": "ipython3",
   "version": "3.7.3"
  }
 },
 "nbformat": 4,
 "nbformat_minor": 2
}
