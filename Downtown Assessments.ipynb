{
 "cells": [
  {
   "cell_type": "markdown",
   "metadata": {},
   "source": [
    "# Analyzing Assessed Value of the Downtown Mall"
   ]
  },
  {
   "cell_type": "markdown",
   "metadata": {},
   "source": [
    "## Goals: \n",
    "\n",
    "    *Provide descriptive statistics of assessed value over time for the City of Charlottesville's downtown mall\n",
    "\n",
    "    *Map and chart assessed values over time"
   ]
  },
  {
   "cell_type": "markdown",
   "metadata": {},
   "source": [
    "## Step 1: Aquire Data"
   ]
  },
  {
   "cell_type": "markdown",
   "metadata": {},
   "source": [
    "### Assessment Values\n",
    "    Charlottesville's Open Data Portal : http://opendata.charlottesville.org/\n",
    "\n",
    "    Real Estate (All Assessments) Dataset : http://opendata.charlottesville.org/datasets/real-estate-all-assessments\n",
    "\n",
    "        * On the Real Estate dataset page, in the upper right corner of the window under the map click the APIs             drop down\n",
    "        * Copy the GeoJSON link\n",
    "        * Use the GeoJSON link to pull data directly from the Open Data portal using the code below\n",
    "\n",
    "    Parcel Area Data : http://opendata.charlottesville.org/datasets/parcel-boundary-area\n",
    "\n",
    "### List of properties to use in analysis\n",
    "\n",
    "Charlottesville GIS Viewer: https://gisweb.charlottesville.org/GisViewer/\n",
    "\n",
    "    * Under Map option, turn on 'Parcels & Buildings' > 'Parcels'. Turn everything else off.\n",
    "\n",
    "    * Zoom to area of interest on map\n",
    "\n",
    "    * Under 'Tools' select 'Identify'\n",
    "\n",
    "    * In 'Identify' toolbar select 'Custom Shape' and under 'Layer' select 'Parcels'\n",
    "\n",
    "    * Using mouse on map, click boundary around area of interest\n",
    "\n",
    "    * A list will appear in the left panel of the web page\n",
    "\n",
    "    * In the panel click 'Tools' > 'Export All to Excel'\n",
    "\n",
    "    * A window named 'Export Results' will open when your download is ready.\n",
    "\n",
    "    * Click 'View Export' and save file to your project directory\n",
    "\n",
    "<img src=\"https://github.com/strmwtr/downtown_assessments/blob/master/img/getting_pin_list.png?raw=true\">"
   ]
  },
  {
   "cell_type": "markdown",
   "metadata": {},
   "source": [
    "# Step 2: Prepare Data"
   ]
  },
  {
   "cell_type": "code",
   "execution_count": 1,
   "metadata": {},
   "outputs": [],
   "source": [
    "from matplotlib import pyplot as plt\n",
    "import pandas as pd\n",
    "import requests\n",
    "import folium\n",
    "\n",
    "%matplotlib inline"
   ]
  },
  {
   "cell_type": "markdown",
   "metadata": {},
   "source": [
    "## Import .xls retrieved from the GIS Viewer into pandas"
   ]
  },
  {
   "cell_type": "code",
   "execution_count": 2,
   "metadata": {},
   "outputs": [],
   "source": [
    "#Path to the .xls retrieve from the GIS Viewer\n",
    "f = r'./data/pin_exp.xls'\n",
    "\n",
    "#Create a dataframe that reads the .xls file\n",
    "df = pd.read_excel(f)"
   ]
  },
  {
   "cell_type": "markdown",
   "metadata": {},
   "source": [
    "#### Remove all MULTIPIN parcels from df"
   ]
  },
  {
   "cell_type": "code",
   "execution_count": 3,
   "metadata": {},
   "outputs": [],
   "source": [
    "#Identify all rows in df where MULTIPIN column is not equal to 1\n",
    "not_multipin = df['MULTIPIN'] != 1\n",
    "#Create a new dataframe that only contains the rows identified in not_multipin\n",
    "df = df[not_multipin]\n",
    "#df.head()"
   ]
  },
  {
   "cell_type": "markdown",
   "metadata": {},
   "source": [
    "## Access json file for parcel areas"
   ]
  },
  {
   "cell_type": "code",
   "execution_count": 4,
   "metadata": {},
   "outputs": [
    {
     "name": "stdout",
     "output_type": "stream",
     "text": [
      "https://gisweb.charlottesville.org/arcgis/rest/services/OpenData_1/MapServer/43/query?where=GPIN%20in%20(7309,14744,6656,7426,7021,6984,7197,6819,6876,7447,7029,6724,7511,7484,7042,7005,6807,7515,7543,6923,17202,7128,7541,7199,6805,7120,7111,6877,7047,6569,7053,6958,6674,7082,7037,6668,6930,7063,6666,7213,6740,7078,6897,7279,7091,6726,6966,7104,6806,6869,6633,6881,7272,7068,6703,6947,6832,6625,7141,6604,6696,7162,6393,6694,7171,6848,7346,6537,6662,6493,7017,7330,7025,6655,7033,6644,6861,6689,6267,7232,6979,6918,7059,6938,7249,7070,7259,7087,7096,7266,7103,7275,7308,7163,7510,7319,7329,7339,7185,7348,7072,7198,7358,7207,7374,7390,7441,7456,7471,7664,7482,7717,7507,7524,17098,17097,7184,7476)&outFields=*&outSR=4326&f=json\n"
     ]
    }
   ],
   "source": [
    "formatted_gpins = [str(x) for x in df['GPIN'].unique()]\n",
    "formatted_gpins = formatted_gpins\n",
    "formatted_gpins = ','.join(formatted_gpins)\n",
    "\n",
    "parcel_area_url = f\"https://gisweb.charlottesville.org/arcgis/rest/services/OpenData_1/MapServer/43/query?where=GPIN%20in%20({formatted_gpins})&outFields=*&outSR=4326&f=json\"\n",
    "\n",
    "print(parcel_area_url)"
   ]
  },
  {
   "cell_type": "markdown",
   "metadata": {},
   "source": [
    "## Preparing annual assessment data\n",
    "\n",
    "Charlottesville's Open Data Portal : http://opendata.charlottesville.org/\n",
    "\n",
    "Real Estate (All Assessments) Dataset : http://opendata.charlottesville.org/datasets/real-estate-all-assessments\n",
    "\n",
    "* On the Real Estate dataset page, in the upper right corner of the window under the map click the 'API Explorer' tab\n",
    "* Copy the Query URL link and augment the link to match your query\n",
    "* Use the augmented link to pull data directly from the Open Data portal using the code below"
   ]
  },
  {
   "cell_type": "code",
   "execution_count": 5,
   "metadata": {
    "scrolled": true
   },
   "outputs": [],
   "source": [
    "formatted_pins = [f'%27{x}%27' for x in df['PIN'].unique()]\n",
    "formatted_pins_1 = formatted_pins\n",
    "formatted_pins_1 = ','.join(formatted_pins_1)\n",
    "\n",
    "assessment_url = f\"https://gisweb.charlottesville.org/arcgis/rest/services/OpenData_2/MapServer/2/query?where=UPPER(ParcelNumber)%20in%20({formatted_pins_1})%20&outFields=ParcelNumber,LandValue,ImprovementValue,TotalValue,TaxYear&outSR=4326&f=json\"\n",
    "\n",
    "assessment_request = requests.get(assessment_url)\n",
    "\n",
    "d1 = assessment_request.json()"
   ]
  },
  {
   "cell_type": "markdown",
   "metadata": {},
   "source": [
    "After testing the requests.get(url), I can request up to 120 parcels at a time before recieving a 404 Error. I have 126 parcels of interest. I will break my request up into 2 parts, [:75] and [75:]."
   ]
  },
  {
   "cell_type": "markdown",
   "metadata": {},
   "source": [
    "## Create data series based on features and combine data frames into a single df"
   ]
  },
  {
   "cell_type": "code",
   "execution_count": 6,
   "metadata": {},
   "outputs": [],
   "source": [
    "df1 = pd.DataFrame(d1['features'])"
   ]
  },
  {
   "cell_type": "markdown",
   "metadata": {},
   "source": [
    "## Create a single data frame based on combined series data"
   ]
  },
  {
   "cell_type": "code",
   "execution_count": 7,
   "metadata": {},
   "outputs": [],
   "source": [
    "assessments = pd.DataFrame([x for x in df1['attributes']], dtype = 'object')\n",
    "assessments = assessments.astype({'TaxYear': 'int64', 'ImprovementValue': 'int64','LandValue': 'int64','TotalValue': 'int64', 'ParcelNumber': 'str'})\n",
    "#assessments.head()"
   ]
  },
  {
   "cell_type": "markdown",
   "metadata": {},
   "source": [
    "## Create data frame from df that holds PIN and GPIN. Will be used to joined assessments, so that parcel area can be joined with assessments"
   ]
  },
  {
   "cell_type": "code",
   "execution_count": 8,
   "metadata": {},
   "outputs": [],
   "source": [
    "df_key = pd.DataFrame(df[['PIN','GPIN']], dtype = 'str')\n",
    "#df_key.head()"
   ]
  },
  {
   "cell_type": "code",
   "execution_count": 9,
   "metadata": {},
   "outputs": [],
   "source": [
    "d = pd.merge(assessments, df_key, how='inner', left_on=['ParcelNumber'], right_on=['PIN'])\n",
    "#print(assessments.shape, d.shape)"
   ]
  },
  {
   "cell_type": "markdown",
   "metadata": {},
   "source": [
    "# Step 3: Analyze"
   ]
  },
  {
   "cell_type": "code",
   "execution_count": 10,
   "metadata": {},
   "outputs": [],
   "source": [
    "#Create data frame of assessed values for all parcels by specified year\n",
    "year_min = int(d['TaxYear'].min())\n",
    "year_max = int(d['TaxYear'].max())\n",
    "years = (x for x in range(year_min, year_max+1))\n",
    "#total_val_col = d['TotalValue'][d['TaxYear'] == 2019].mean()\n",
    "assessment_chart_list = []\n",
    "for x in years:\n",
    "    year_col = x\n",
    "    land_col_mean = d['LandValue'][d['TaxYear'] == x].mean()\n",
    "    imp_col_mean = d['ImprovementValue'][d['TaxYear'] == x].mean()\n",
    "    total_col_mean = d['TotalValue'][d['TaxYear'] == x].mean()\n",
    "    \n",
    "    land_col_min = d['LandValue'][d['TaxYear'] == x].min()\n",
    "    imp_col_min = d['ImprovementValue'][d['TaxYear'] == x].min()\n",
    "    total_col_min = d['TotalValue'][d['TaxYear'] == x].min()\n",
    "    \n",
    "    land_col_max = d['LandValue'][d['TaxYear'] == x].max()\n",
    "    imp_col_max = d['ImprovementValue'][d['TaxYear'] == x].max()\n",
    "    total_col_max = d['TotalValue'][d['TaxYear'] == x].max()\n",
    "    \n",
    "    assessment_chart_list.append(\n",
    "        [year_col, land_col_mean, imp_col_mean, total_col_mean, land_col_min, imp_col_min, \n",
    "         total_col_min, land_col_max, imp_col_max, total_col_max])\n",
    "assessment_chart_cols = ['Tax Year', 'Mean Land Value', 'Mean Improvement Value', 'Mean Total Value',\n",
    "    'Min Land Value', 'Min Improvement Value', 'Min Total Value', 'Max Land Value', 'Max Improvement Value', \n",
    "    'Max Total Value']\n",
    "assessment_chart_df = pd.DataFrame(assessment_chart_list, columns = assessment_chart_cols)\n",
    "#assessment_chart_df"
   ]
  },
  {
   "cell_type": "code",
   "execution_count": 11,
   "metadata": {},
   "outputs": [
    {
     "data": {
      "image/png": "[encoded data removed]",
      "text/plain": [
       "<Figure size 432x288 with 1 Axes>"
      ]
     },
     "metadata": {
      "needs_background": "light"
     },
     "output_type": "display_data"
    }
   ],
   "source": [
    "plt.plot(assessment_chart_df['Tax Year'], assessment_chart_df['Min Total Value'], linestyle = '--', color = '#000000', label='Min Total Value')\n",
    "plt.plot(assessment_chart_df['Tax Year'], assessment_chart_df['Mean Total Value'], linestyle = '-', color = '#000000', label='Mean Total Value')\n",
    "plt.plot(assessment_chart_df['Tax Year'], assessment_chart_df['Max Total Value'], linestyle = '-.', color = '#000000', label='Max Total Value')\n",
    "\n",
    "plt.plot(assessment_chart_df['Tax Year'], assessment_chart_df['Min Land Value'], linestyle = '--', color = '#41966d',  label='Min Land Value')\n",
    "plt.plot(assessment_chart_df['Tax Year'], assessment_chart_df['Mean Land Value'], linestyle = '-', color = '#41966d', label='Mean Land Value')\n",
    "plt.plot(assessment_chart_df['Tax Year'], assessment_chart_df['Max Land Value'],  linestyle = '-.', color = '#41966d', label='Max Land Value')\n",
    "\n",
    "plt.plot(assessment_chart_df['Tax Year'], assessment_chart_df['Min Improvement Value'], linestyle = '--', color = '#ff0000', label='Min Improvement Value')\n",
    "plt.plot(assessment_chart_df['Tax Year'], assessment_chart_df['Mean Improvement Value'], linestyle = '-', color = '#ff0000', label='Mean Improvement Value')\n",
    "plt.plot(assessment_chart_df['Tax Year'], assessment_chart_df['Max Improvement Value'], linestyle = '-.', color = '#ff0000', label='Max Improvement Value')\n",
    "\n",
    "plt.title('Assessed Value by Year')\n",
    "plt.xlabel('Tax Years')\n",
    "plt.ylabel('Assessment Value (Millions)')\n",
    "\n",
    "plt.xticks(range(assessment_chart_df['Tax Year'].min(), assessment_chart_df['Tax Year'].max()+1), rotation=270)\n",
    "plt.yticks(range(0, int(assessment_chart_df['Max Total Value'].max()), 5000000))\n",
    "\n",
    "plt.legend(fontsize = 'small')\n",
    "plt.savefig('plot.png', dpi=300, edgecolor = 'w', orientation='landscape')"
   ]
  },
  {
   "cell_type": "code",
   "execution_count": 22,
   "metadata": {},
   "outputs": [
    {
     "name": "stdout",
     "output_type": "stream",
     "text": [
      "<Response [200]>\n"
     ]
    }
   ],
   "source": [
    "formatted_gpins = [str(x) for x in df['GPIN'].unique()]\n",
    "formatted_gpins = formatted_gpins\n",
    "formatted_gpins = ','.join(formatted_gpins)\n",
    "\n",
    "#Query url\n",
    "parcel_url = f'https://opendata.arcgis.com/datasets/320d465ddf0d498796da6491e21f6dde_43.geojson?where=GPIN%20in%20({formatted_gpins})'\n",
    "\n",
    "parcel_url_request = requests.get(parcel_url)\n",
    "print(parcel_url_request)\n",
    "parcel_url_json = parcel"
   ]
  },
  {
   "cell_type": "code",
   "execution_count": 19,
   "metadata": {},
   "outputs": [
    {
     "data": {
      "text/html": [
       "<div>\n",
       "<style scoped>\n",
       "    .dataframe tbody tr th:only-of-type {\n",
       "        vertical-align: middle;\n",
       "    }\n",
       "\n",
       "    .dataframe tbody tr th {\n",
       "        vertical-align: top;\n",
       "    }\n",
       "\n",
       "    .dataframe thead th {\n",
       "        text-align: right;\n",
       "    }\n",
       "</style>\n",
       "<table border=\"1\" class=\"dataframe\">\n",
       "  <thead>\n",
       "    <tr style=\"text-align: right;\">\n",
       "      <th></th>\n",
       "      <th>GPIN</th>\n",
       "      <th>TotalValue</th>\n",
       "    </tr>\n",
       "  </thead>\n",
       "  <tbody>\n",
       "    <tr>\n",
       "      <th>22</th>\n",
       "      <td>6861</td>\n",
       "      <td>3342200</td>\n",
       "    </tr>\n",
       "    <tr>\n",
       "      <th>45</th>\n",
       "      <td>6869</td>\n",
       "      <td>2030900</td>\n",
       "    </tr>\n",
       "    <tr>\n",
       "      <th>68</th>\n",
       "      <td>7068</td>\n",
       "      <td>117600</td>\n",
       "    </tr>\n",
       "    <tr>\n",
       "      <th>91</th>\n",
       "      <td>7120</td>\n",
       "      <td>162100</td>\n",
       "    </tr>\n",
       "    <tr>\n",
       "      <th>120</th>\n",
       "      <td>6958</td>\n",
       "      <td>2288800</td>\n",
       "    </tr>\n",
       "    <tr>\n",
       "      <th>143</th>\n",
       "      <td>6984</td>\n",
       "      <td>422400</td>\n",
       "    </tr>\n",
       "    <tr>\n",
       "      <th>166</th>\n",
       "      <td>7021</td>\n",
       "      <td>592700</td>\n",
       "    </tr>\n",
       "    <tr>\n",
       "      <th>189</th>\n",
       "      <td>7197</td>\n",
       "      <td>654100</td>\n",
       "    </tr>\n",
       "    <tr>\n",
       "      <th>212</th>\n",
       "      <td>7029</td>\n",
       "      <td>197700</td>\n",
       "    </tr>\n",
       "    <tr>\n",
       "      <th>235</th>\n",
       "      <td>7042</td>\n",
       "      <td>252400</td>\n",
       "    </tr>\n",
       "    <tr>\n",
       "      <th>258</th>\n",
       "      <td>7047</td>\n",
       "      <td>403700</td>\n",
       "    </tr>\n",
       "    <tr>\n",
       "      <th>281</th>\n",
       "      <td>7063</td>\n",
       "      <td>287500</td>\n",
       "    </tr>\n",
       "    <tr>\n",
       "      <th>304</th>\n",
       "      <td>7078</td>\n",
       "      <td>274800</td>\n",
       "    </tr>\n",
       "    <tr>\n",
       "      <th>327</th>\n",
       "      <td>7091</td>\n",
       "      <td>369000</td>\n",
       "    </tr>\n",
       "    <tr>\n",
       "      <th>350</th>\n",
       "      <td>7199</td>\n",
       "      <td>245500</td>\n",
       "    </tr>\n",
       "    <tr>\n",
       "      <th>373</th>\n",
       "      <td>7104</td>\n",
       "      <td>355600</td>\n",
       "    </tr>\n",
       "    <tr>\n",
       "      <th>396</th>\n",
       "      <td>7213</td>\n",
       "      <td>127700</td>\n",
       "    </tr>\n",
       "    <tr>\n",
       "      <th>419</th>\n",
       "      <td>7272</td>\n",
       "      <td>174200</td>\n",
       "    </tr>\n",
       "    <tr>\n",
       "      <th>442</th>\n",
       "      <td>7141</td>\n",
       "      <td>525800</td>\n",
       "    </tr>\n",
       "    <tr>\n",
       "      <th>465</th>\n",
       "      <td>7162</td>\n",
       "      <td>699100</td>\n",
       "    </tr>\n",
       "    <tr>\n",
       "      <th>488</th>\n",
       "      <td>7171</td>\n",
       "      <td>337600</td>\n",
       "    </tr>\n",
       "    <tr>\n",
       "      <th>511</th>\n",
       "      <td>7346</td>\n",
       "      <td>62900</td>\n",
       "    </tr>\n",
       "    <tr>\n",
       "      <th>534</th>\n",
       "      <td>7309</td>\n",
       "      <td>0</td>\n",
       "    </tr>\n",
       "    <tr>\n",
       "      <th>557</th>\n",
       "      <td>7330</td>\n",
       "      <td>194600</td>\n",
       "    </tr>\n",
       "    <tr>\n",
       "      <th>580</th>\n",
       "      <td>7232</td>\n",
       "      <td>1578400</td>\n",
       "    </tr>\n",
       "    <tr>\n",
       "      <th>603</th>\n",
       "      <td>7249</td>\n",
       "      <td>1220300</td>\n",
       "    </tr>\n",
       "    <tr>\n",
       "      <th>626</th>\n",
       "      <td>7259</td>\n",
       "      <td>647900</td>\n",
       "    </tr>\n",
       "    <tr>\n",
       "      <th>649</th>\n",
       "      <td>7266</td>\n",
       "      <td>970000</td>\n",
       "    </tr>\n",
       "    <tr>\n",
       "      <th>666</th>\n",
       "      <td>7275</td>\n",
       "      <td>189400</td>\n",
       "    </tr>\n",
       "    <tr>\n",
       "      <th>695</th>\n",
       "      <td>7308</td>\n",
       "      <td>587100</td>\n",
       "    </tr>\n",
       "    <tr>\n",
       "      <th>...</th>\n",
       "      <td>...</td>\n",
       "      <td>...</td>\n",
       "    </tr>\n",
       "    <tr>\n",
       "      <th>2004</th>\n",
       "      <td>6644</td>\n",
       "      <td>271900</td>\n",
       "    </tr>\n",
       "    <tr>\n",
       "      <th>2027</th>\n",
       "      <td>6537</td>\n",
       "      <td>547700</td>\n",
       "    </tr>\n",
       "    <tr>\n",
       "      <th>2050</th>\n",
       "      <td>6493</td>\n",
       "      <td>219000</td>\n",
       "    </tr>\n",
       "    <tr>\n",
       "      <th>2073</th>\n",
       "      <td>6569</td>\n",
       "      <td>170800</td>\n",
       "    </tr>\n",
       "    <tr>\n",
       "      <th>2096</th>\n",
       "      <td>7072</td>\n",
       "      <td>466000</td>\n",
       "    </tr>\n",
       "    <tr>\n",
       "      <th>2119</th>\n",
       "      <td>7082</td>\n",
       "      <td>154800</td>\n",
       "    </tr>\n",
       "    <tr>\n",
       "      <th>2138</th>\n",
       "      <td>7111</td>\n",
       "      <td>135100</td>\n",
       "    </tr>\n",
       "    <tr>\n",
       "      <th>2165</th>\n",
       "      <td>7128</td>\n",
       "      <td>115100</td>\n",
       "    </tr>\n",
       "    <tr>\n",
       "      <th>2188</th>\n",
       "      <td>7163</td>\n",
       "      <td>680100</td>\n",
       "    </tr>\n",
       "    <tr>\n",
       "      <th>2211</th>\n",
       "      <td>7185</td>\n",
       "      <td>310000</td>\n",
       "    </tr>\n",
       "    <tr>\n",
       "      <th>2234</th>\n",
       "      <td>7198</td>\n",
       "      <td>279300</td>\n",
       "    </tr>\n",
       "    <tr>\n",
       "      <th>2257</th>\n",
       "      <td>7207</td>\n",
       "      <td>223400</td>\n",
       "    </tr>\n",
       "    <tr>\n",
       "      <th>2280</th>\n",
       "      <td>7456</td>\n",
       "      <td>241100</td>\n",
       "    </tr>\n",
       "    <tr>\n",
       "      <th>2303</th>\n",
       "      <td>7441</td>\n",
       "      <td>272900</td>\n",
       "    </tr>\n",
       "    <tr>\n",
       "      <th>2326</th>\n",
       "      <td>7426</td>\n",
       "      <td>289000</td>\n",
       "    </tr>\n",
       "    <tr>\n",
       "      <th>2349</th>\n",
       "      <td>7447</td>\n",
       "      <td>270400</td>\n",
       "    </tr>\n",
       "    <tr>\n",
       "      <th>2372</th>\n",
       "      <td>7484</td>\n",
       "      <td>270400</td>\n",
       "    </tr>\n",
       "    <tr>\n",
       "      <th>2395</th>\n",
       "      <td>7515</td>\n",
       "      <td>270400</td>\n",
       "    </tr>\n",
       "    <tr>\n",
       "      <th>2418</th>\n",
       "      <td>7541</td>\n",
       "      <td>27200</td>\n",
       "    </tr>\n",
       "    <tr>\n",
       "      <th>2441</th>\n",
       "      <td>7471</td>\n",
       "      <td>291800</td>\n",
       "    </tr>\n",
       "    <tr>\n",
       "      <th>2464</th>\n",
       "      <td>7482</td>\n",
       "      <td>391800</td>\n",
       "    </tr>\n",
       "    <tr>\n",
       "      <th>2487</th>\n",
       "      <td>7507</td>\n",
       "      <td>449100</td>\n",
       "    </tr>\n",
       "    <tr>\n",
       "      <th>2510</th>\n",
       "      <td>7664</td>\n",
       "      <td>122100</td>\n",
       "    </tr>\n",
       "    <tr>\n",
       "      <th>2533</th>\n",
       "      <td>7717</td>\n",
       "      <td>167100</td>\n",
       "    </tr>\n",
       "    <tr>\n",
       "      <th>2556</th>\n",
       "      <td>7524</td>\n",
       "      <td>1019100</td>\n",
       "    </tr>\n",
       "    <tr>\n",
       "      <th>2579</th>\n",
       "      <td>17098</td>\n",
       "      <td>366500</td>\n",
       "    </tr>\n",
       "    <tr>\n",
       "      <th>2602</th>\n",
       "      <td>17097</td>\n",
       "      <td>270900</td>\n",
       "    </tr>\n",
       "    <tr>\n",
       "      <th>2625</th>\n",
       "      <td>7184</td>\n",
       "      <td>6276200</td>\n",
       "    </tr>\n",
       "    <tr>\n",
       "      <th>2648</th>\n",
       "      <td>7279</td>\n",
       "      <td>4616200</td>\n",
       "    </tr>\n",
       "    <tr>\n",
       "      <th>2671</th>\n",
       "      <td>7476</td>\n",
       "      <td>94000</td>\n",
       "    </tr>\n",
       "  </tbody>\n",
       "</table>\n",
       "<p>114 rows × 2 columns</p>\n",
       "</div>"
      ],
      "text/plain": [
       "       GPIN  TotalValue\n",
       "22     6861     3342200\n",
       "45     6869     2030900\n",
       "68     7068      117600\n",
       "91     7120      162100\n",
       "120    6958     2288800\n",
       "143    6984      422400\n",
       "166    7021      592700\n",
       "189    7197      654100\n",
       "212    7029      197700\n",
       "235    7042      252400\n",
       "258    7047      403700\n",
       "281    7063      287500\n",
       "304    7078      274800\n",
       "327    7091      369000\n",
       "350    7199      245500\n",
       "373    7104      355600\n",
       "396    7213      127700\n",
       "419    7272      174200\n",
       "442    7141      525800\n",
       "465    7162      699100\n",
       "488    7171      337600\n",
       "511    7346       62900\n",
       "534    7309           0\n",
       "557    7330      194600\n",
       "580    7232     1578400\n",
       "603    7249     1220300\n",
       "626    7259      647900\n",
       "649    7266      970000\n",
       "666    7275      189400\n",
       "695    7308      587100\n",
       "...     ...         ...\n",
       "2004   6644      271900\n",
       "2027   6537      547700\n",
       "2050   6493      219000\n",
       "2073   6569      170800\n",
       "2096   7072      466000\n",
       "2119   7082      154800\n",
       "2138   7111      135100\n",
       "2165   7128      115100\n",
       "2188   7163      680100\n",
       "2211   7185      310000\n",
       "2234   7198      279300\n",
       "2257   7207      223400\n",
       "2280   7456      241100\n",
       "2303   7441      272900\n",
       "2326   7426      289000\n",
       "2349   7447      270400\n",
       "2372   7484      270400\n",
       "2395   7515      270400\n",
       "2418   7541       27200\n",
       "2441   7471      291800\n",
       "2464   7482      391800\n",
       "2487   7507      449100\n",
       "2510   7664      122100\n",
       "2533   7717      167100\n",
       "2556   7524     1019100\n",
       "2579  17098      366500\n",
       "2602  17097      270900\n",
       "2625   7184     6276200\n",
       "2648   7279     4616200\n",
       "2671   7476       94000\n",
       "\n",
       "[114 rows x 2 columns]"
      ]
     },
     "execution_count": 19,
     "metadata": {},
     "output_type": "execute_result"
    }
   ],
   "source": [
    "def total_value_by_year(year):\n",
    "    tv_df = d[['GPIN','TotalValue']][d['TaxYear'] == year]\n",
    "    tv_df = tv_df.astype({'GPIN': 'int', 'TotalValue': 'int'})\n",
    "    return tv_df\n",
    "\n",
    "\n",
    "total_value_by_year(1997)"
   ]
  },
  {
   "cell_type": "code",
   "execution_count": 20,
   "metadata": {},
   "outputs": [
    {
     "data": {
      "text/html": [
       "<div style=\"width:100%;\"><div style=\"position:relative;width:100%;height:0;padding-bottom:60%;\"><iframe src=\"data:text/html;charset=utf-8;base64,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\" style=\"position:absolute;width:100%;height:100%;left:0;top:0;border:none !important;\" allowfullscreen webkitallowfullscreen mozallowfullscreen></iframe></div></div>"
      ],
      "text/plain": [
       "<folium.folium.Map at 0x7f5c1f4e0b00>"
      ]
     },
     "execution_count": 20,
     "metadata": {},
     "output_type": "execute_result"
    }
   ],
   "source": [
    "m = folium.Map(location=[38.03090, -78.48044], zoom_start=17, tiles='OpenStreetMap')\n",
    "folium.Choropleth(\n",
    "    geo_data = parcel_url, \n",
    "    data=total_value_by_year(1997), \n",
    "    columns=['GPIN', 'TotalValue'], \n",
    "    key_on='GPIN', \n",
    "    bins=9,\n",
    "    fill_color='YlGn', \n",
    "    nan_fill_color='black', \n",
    "    fill_opacity=0.8, \n",
    "    nan_fill_opacity=1, \n",
    "    line_color='black', \n",
    "    line_weight=1, \n",
    "    line_opacity=1, \n",
    "    name='Assessed Value',\n",
    "    legend_name='Total Assessed Value 1997', \n",
    ").add_to(m)\n",
    "m"
   ]
  },
  {
   "cell_type": "markdown",
   "metadata": {},
   "source": [
    "# Map Total Assessed Value by Parcel via folium\n",
    "# Do it for each year\n",
    "# Create time lapse of maps"
   ]
  },
  {
   "cell_type": "code",
   "execution_count": null,
   "metadata": {},
   "outputs": [],
   "source": []
  }
 ],
 "metadata": {
  "kernelspec": {
   "display_name": "Python 3",
   "language": "python",
   "name": "python3"
  },
  "language_info": {
   "codemirror_mode": {
    "name": "ipython",
    "version": 3
   },
   "file_extension": ".py",
   "mimetype": "text/x-python",
   "name": "python",
   "nbconvert_exporter": "python",
   "pygments_lexer": "ipython3",
   "version": "3.7.3"
  }
 },
 "nbformat": 4,
 "nbformat_minor": 2
}
