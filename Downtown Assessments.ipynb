{
 "cells": [
  {
   "cell_type": "markdown",
   "metadata": {},
   "source": [
    "# Analyzing Assessed Value of the Downtown Mall"
   ]
  },
  {
   "cell_type": "markdown",
   "metadata": {},
   "source": [
    "## Goals: \n",
    "\n",
    "    *Provide descriptive statistics of assessed value over time for the City of Charlottesville's downtown mall\n",
    "\n",
    "    *Map and chart assessed values over time"
   ]
  },
  {
   "cell_type": "markdown",
   "metadata": {},
   "source": [
    "## Step 1: Aquire Data"
   ]
  },
  {
   "cell_type": "markdown",
   "metadata": {},
   "source": [
    "### Assessment Values\n",
    "    Charlottesville's Open Data Portal : http://opendata.charlottesville.org/\n",
    "\n",
    "    Real Estate (All Assessments) Dataset : http://opendata.charlottesville.org/datasets/real-estate-all-assessments\n",
    "\n",
    "        * On the Real Estate dataset page, in the upper right corner of the window under the map click the APIs             drop down\n",
    "        * Copy the GeoJSON link\n",
    "        * Use the GeoJSON link to pull data directly from the Open Data portal using the code below\n",
    "\n",
    "    Parcel Area Data : http://opendata.charlottesville.org/datasets/parcel-boundary-area\n",
    "\n",
    "### List of properties to use in analysis\n",
    "\n",
    "Charlottesville GIS Viewer: https://gisweb.charlottesville.org/GisViewer/\n",
    "\n",
    "    * Under Map option, turn on 'Parcels & Buildings' > 'Parcels'. Turn everything else off.\n",
    "\n",
    "    * Zoom to area of interest on map\n",
    "\n",
    "    * Under 'Tools' select 'Identify'\n",
    "\n",
    "    * In 'Identify' toolbar select 'Custom Shape' and under 'Layer' select 'Parcels'\n",
    "\n",
    "    * Using mouse on map, click boundary around area of interest\n",
    "\n",
    "    * A list will appear in the left panel of the web page\n",
    "\n",
    "    * In the panel click 'Tools' > 'Export All to Excel'\n",
    "\n",
    "    * A window named 'Export Results' will open when your download is ready.\n",
    "\n",
    "    * Click 'View Export' and save file to your project directory\n",
    "\n",
    "<img src=\"https://github.com/strmwtr/downtown_assessments/blob/master/img/getting_pin_list.png?raw=true\">"
   ]
  },
  {
   "cell_type": "markdown",
   "metadata": {},
   "source": [
    "# Step 2: Prepare Data"
   ]
  },
  {
   "cell_type": "markdown",
   "metadata": {},
   "source": [
    "## Import .xls retrieved from the GIS Viewer into pandas"
   ]
  },
  {
   "cell_type": "code",
   "execution_count": 1,
   "metadata": {},
   "outputs": [],
   "source": [
    "#Import pandas module\n",
    "import pandas as pd \n",
    "\n",
    "#Path to the .xls retrieve from the GIS Viewer\n",
    "f = r'./data/pin_exp.xls'\n",
    "\n",
    "#Create a dataframe that reads the .xls file\n",
    "df = pd.read_excel(f)"
   ]
  },
  {
   "cell_type": "markdown",
   "metadata": {},
   "source": [
    "#### Remove all MULTIPIN parcels from df"
   ]
  },
  {
   "cell_type": "code",
   "execution_count": 2,
   "metadata": {},
   "outputs": [],
   "source": [
    "#Identify all rows in df where MULTIPIN column is not equal to 1\n",
    "not_multipin = df['MULTIPIN'] != 1\n",
    "#Create a new dataframe that only contains the rows identified in not_multipin\n",
    "df = df[not_multipin]\n",
    "#df.head()"
   ]
  },
  {
   "cell_type": "markdown",
   "metadata": {},
   "source": [
    "## Access json file for parcel areas"
   ]
  },
  {
   "cell_type": "code",
   "execution_count": 3,
   "metadata": {},
   "outputs": [],
   "source": [
    "formatted_gpins = [str(x) for x in df['GPIN'].unique()]\n",
    "formatted_gpins = formatted_gpins\n",
    "formatted_gpins = ','.join(formatted_gpins)\n",
    "\n",
    "parcel_area_url = f\"https://gisweb.charlottesville.org/arcgis/rest/services/OpenData_1/MapServer/43/query?where=GPIN%20in%20({formatted_gpins})&outFields=*&outSR=4326&f=json\"\n",
    "\n",
    "#print(parcel_area_url)"
   ]
  },
  {
   "cell_type": "markdown",
   "metadata": {},
   "source": [
    "## Preparing annual assessment data\n",
    "\n",
    "Charlottesville's Open Data Portal : http://opendata.charlottesville.org/\n",
    "\n",
    "Real Estate (All Assessments) Dataset : http://opendata.charlottesville.org/datasets/real-estate-all-assessments\n",
    "\n",
    "* On the Real Estate dataset page, in the upper right corner of the window under the map click the 'API Explorer' tab\n",
    "* Copy the Query URL link and augment the link to match your query\n",
    "* Use the augmented link to pull data directly from the Open Data portal using the code below"
   ]
  },
  {
   "cell_type": "code",
   "execution_count": 4,
   "metadata": {
    "scrolled": true
   },
   "outputs": [],
   "source": [
    "# importing the requests library \n",
    "import requests\n",
    "\n",
    "formatted_pins = [f'%27{x}%27' for x in df['PIN'].unique()]\n",
    "formatted_pins_1 = formatted_pins\n",
    "formatted_pins_1 = ','.join(formatted_pins_1)\n",
    "\n",
    "url1 = f\"https://gisweb.charlottesville.org/arcgis/rest/services/OpenData_2/MapServer/2/query?where=UPPER(ParcelNumber)%20in%20({formatted_pins_1})%20&outFields=ParcelNumber,LandValue,ImprovementValue,TotalValue,TaxYear&outSR=4326&f=json\"\n",
    "\n",
    "r1 = requests.get(url1)\n",
    "\n",
    "d1 = r1.json()\n",
    "\n",
    "#print(r1)"
   ]
  },
  {
   "cell_type": "markdown",
   "metadata": {},
   "source": [
    "After testing the requests.get(url), I can request up to 120 parcels at a time before recieving a 404 Error. I have 126 parcels of interest. I will break my request up into 2 parts, [:75] and [75:]."
   ]
  },
  {
   "cell_type": "markdown",
   "metadata": {},
   "source": [
    "## Create data series based on features and combine data frames into a single df"
   ]
  },
  {
   "cell_type": "code",
   "execution_count": 5,
   "metadata": {},
   "outputs": [],
   "source": [
    "df1 = pd.DataFrame(d1['features'])"
   ]
  },
  {
   "cell_type": "markdown",
   "metadata": {},
   "source": [
    "## Create a single data frame based on combined series data"
   ]
  },
  {
   "cell_type": "code",
   "execution_count": 6,
   "metadata": {},
   "outputs": [],
   "source": [
    "assessments = pd.DataFrame([x for x in df1['attributes']], dtype = 'object')\n",
    "assessments = assessments.astype({'TaxYear': 'int64', 'ImprovementValue': 'int64','LandValue': 'int64','TotalValue': 'int64', 'ParcelNumber': 'str'})\n",
    "#assessments.head()"
   ]
  },
  {
   "cell_type": "markdown",
   "metadata": {},
   "source": [
    "## Create data frame from df that holds PIN and GPIN. Will be used to joined assessments, so that parcel area can be joined with assessments"
   ]
  },
  {
   "cell_type": "code",
   "execution_count": 7,
   "metadata": {},
   "outputs": [],
   "source": [
    "df_key = pd.DataFrame(df[['PIN','GPIN']], dtype = 'str')\n",
    "#df_key.head()"
   ]
  },
  {
   "cell_type": "code",
   "execution_count": 8,
   "metadata": {},
   "outputs": [],
   "source": [
    "d = pd.merge(assessments, df_key, how='inner', left_on=['ParcelNumber'], right_on=['PIN'])\n",
    "#print(assessments.shape, d.shape)"
   ]
  },
  {
   "cell_type": "markdown",
   "metadata": {},
   "source": [
    "# Step 3: Analyze"
   ]
  },
  {
   "cell_type": "code",
   "execution_count": 18,
   "metadata": {},
   "outputs": [
    {
     "name": "stdout",
     "output_type": "stream",
     "text": [
      "[[1997, 126277.19298245614, 544032.4561403509, 670309.649122807], [1998, 139863.15789473685, 554362.2807017544, 694225.4385964912], [1999, 150922.80701754385, 586926.3157894737, 737849.1228070175], [2000, 156554.38596491228, 677314.9122807018, 833869.298245614], [2001, 169684.2105263158, 726210.5263157894, 895894.7368421053], [2002, 186028.0701754386, 828321.9298245613, 1014350.0], [2003, 200293.8596491228, 882421.052631579, 1082714.9122807018], [2004, 213970.6896551724, 953542.2413793104, 1167512.9310344828], [2005, 242986.2068965517, 1099043.9655172413, 1342030.1724137932], [2006, 279434.4827586207, 1166400.0, 1445834.4827586208], [2007, 337525.8620689655, 1331462.9310344828, 1668988.7931034483], [2008, 347032.4786324786, 1344732.4786324787, 1691764.9572649573], [2009, 411016.2393162393, 1389372.6495726495, 1800388.888888889], [2010, 411013.6752136752, 1388147.0085470085, 1799160.6837606838], [2011, 414524.7863247863, 1371785.47008547, 1786310.2564102565], [2012, 410292.3076923077, 1366848.717948718, 1777141.0256410257], [2013, 476926.49572649575, 1461502.564102564, 1938429.0598290598], [2014, 505083.89830508473, 1477055.0847457626, 1982138.9830508474], [2015, 505273.72881355934, 1519095.7627118644, 2024369.4915254237], [2016, 551810.1694915254, 1600359.3220338982, 2152169.4915254237], [2017, 732733.8983050848, 1748659.5762711863, 2481393.474576271], [2018, 742297.4576271187, 1812045.7627118644, 2554343.220338983], [2019, 758220.3389830509, 1943216.9491525423, 2701437.2881355933]]\n"
     ]
    }
   ],
   "source": [
    "#Create data frame of assessed values for all parcels by specified year\n",
    "year_min = int(d['TaxYear'].min())\n",
    "year_max = int(d['TaxYear'].max())\n",
    "years = (x for x in range(year_min, year_max+1))\n",
    "#total_val_col = d['TotalValue'][d['TaxYear'] == 2019].mean()\n",
    "mean_list = []\n",
    "for x in years:\n",
    "    year_col = x\n",
    "    land_col = d['LandValue'][d['TaxYear'] == x].mean()\n",
    "    imp_col = d['ImprovementValue'][d['TaxYear'] == x].mean()\n",
    "    total_col = d['TotalValue'][d['TaxYear'] == x].mean()\n",
    "    mean_list.append([year_col, land_col, imp_col, total_col])\n",
    "print(mean_list)\n",
    "mean_df = pd.DataFrame(mean_list, columns = ['TaxYear', 'LandValue',])\n",
    "#mean_total_vals = [d['TotalValue'][d['TaxYear'] == x].mean() for x in years]\n",
    "#x = d['ParcelNumber'].str.contains('2800371C0')\n",
    "#y = d[x].sort_values('TaxYear')\n",
    "#y.plot(x='TaxYear', y='TotalValue', figsize=(15,10), grid=True)"
   ]
  },
  {
   "cell_type": "code",
   "execution_count": null,
   "metadata": {},
   "outputs": [],
   "source": [
    "#Plot single parcel by tax year vs total value\n",
    "x = d['ParcelNumber'].str.contains('2800371C0')\n",
    "y = d[x].sort_values('TaxYear')\n",
    "y.plot(x='TaxYear', y='TotalValue', figsize=(15,10), grid=True)"
   ]
  },
  {
   "cell_type": "markdown",
   "metadata": {},
   "source": [
    "# Plot each parcels total, land, and improvement value across all years on 3 line graphs, one for each assessment type\n",
    "\n",
    "# Map the same data as above via folium\n",
    "\n",
    "# Create time lapse of maps"
   ]
  }
 ],
 "metadata": {
  "kernelspec": {
   "display_name": "Python 3",
   "language": "python",
   "name": "python3"
  },
  "language_info": {
   "codemirror_mode": {
    "name": "ipython",
    "version": 3
   },
   "file_extension": ".py",
   "mimetype": "text/x-python",
   "name": "python",
   "nbconvert_exporter": "python",
   "pygments_lexer": "ipython3",
   "version": "3.7.3"
  }
 },
 "nbformat": 4,
 "nbformat_minor": 2
}
