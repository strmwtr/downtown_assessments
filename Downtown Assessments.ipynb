{
 "cells": [
  {
   "cell_type": "markdown",
   "metadata": {},
   "source": [
    "# Analyzing Assessed Value of the Downtown Mall"
   ]
  },
  {
   "cell_type": "markdown",
   "metadata": {},
   "source": [
    "## Goals: \n",
    "\n",
    "    *Provide descriptive statistics of assessed value over time for the City of Charlottesville's downtown mall\n",
    "\n",
    "    *Map and chart assessed values over time"
   ]
  },
  {
   "cell_type": "markdown",
   "metadata": {},
   "source": [
    "## Step 1: Aquire Data"
   ]
  },
  {
   "cell_type": "markdown",
   "metadata": {},
   "source": [
    "### Assessment Values\n",
    "    Charlottesville's Open Data Portal : http://opendata.charlottesville.org/\n",
    "\n",
    "    Real Estate (All Assessments) Dataset : http://opendata.charlottesville.org/datasets/real-estate-all-assessments\n",
    "\n",
    "        * On the Real Estate dataset page, in the upper right corner of the window under the map click the APIs             drop down\n",
    "        * Copy the GeoJSON link\n",
    "        * Use the GeoJSON link to pull data directly from the Open Data portal using the code below\n",
    "\n",
    "    Parcel Area Data : http://opendata.charlottesville.org/datasets/parcel-boundary-area\n",
    "\n",
    "### List of properties to use in analysis\n",
    "\n",
    "Charlottesville GIS Viewer: https://gisweb.charlottesville.org/GisViewer/\n",
    "\n",
    "    * Under Map option, turn on 'Parcels & Buildings' > 'Parcels'. Turn everything else off.\n",
    "\n",
    "    * Zoom to area of interest on map\n",
    "\n",
    "    * Under 'Tools' select 'Identify'\n",
    "\n",
    "    * In 'Identify' toolbar select 'Custom Shape' and under 'Layer' select 'Parcels'\n",
    "\n",
    "    * Using mouse on map, click boundary around area of interest\n",
    "\n",
    "    * A list will appear in the left panel of the web page\n",
    "\n",
    "    * In the panel click 'Tools' > 'Export All to Excel'\n",
    "\n",
    "    * A window named 'Export Results' will open when your download is ready.\n",
    "\n",
    "    * Click 'View Export' and save file to your project directory\n",
    "\n",
    "<img src=\"https://github.com/strmwtr/downtown_assessments/blob/master/img/getting_pin_list.png?raw=true\">"
   ]
  },
  {
   "cell_type": "markdown",
   "metadata": {},
   "source": [
    "# Step 2: Prepare Data"
   ]
  },
  {
   "cell_type": "markdown",
   "metadata": {},
   "source": [
    "## Import .xls retrieved from the GIS Viewer into pandas"
   ]
  },
  {
   "cell_type": "code",
   "execution_count": 1,
   "metadata": {},
   "outputs": [],
   "source": [
    "#Import pandas module\n",
    "import pandas as pd \n",
    "\n",
    "#Path to the .xls retrieve from the GIS Viewer\n",
    "f = r'./data/pin_exp.xls'\n",
    "\n",
    "#Create a dataframe that reads the .xls file\n",
    "df = pd.read_excel(f)"
   ]
  },
  {
   "cell_type": "markdown",
   "metadata": {},
   "source": [
    "#### Remove all MULTIPIN parcels from df"
   ]
  },
  {
   "cell_type": "code",
   "execution_count": 2,
   "metadata": {},
   "outputs": [
    {
     "data": {
      "text/html": [
       "<div>\n",
       "<style scoped>\n",
       "    .dataframe tbody tr th:only-of-type {\n",
       "        vertical-align: middle;\n",
       "    }\n",
       "\n",
       "    .dataframe tbody tr th {\n",
       "        vertical-align: top;\n",
       "    }\n",
       "\n",
       "    .dataframe thead th {\n",
       "        text-align: right;\n",
       "    }\n",
       "</style>\n",
       "<table border=\"1\" class=\"dataframe\">\n",
       "  <thead>\n",
       "    <tr style=\"text-align: right;\">\n",
       "      <th></th>\n",
       "      <th>FullAddress</th>\n",
       "      <th>OBJECTID</th>\n",
       "      <th>PIN</th>\n",
       "      <th>GPIN</th>\n",
       "      <th>ParcelNumber</th>\n",
       "      <th>OwnerName</th>\n",
       "      <th>CurrentAssessedValue</th>\n",
       "      <th>CurrentTaxYear</th>\n",
       "      <th>CurrentAssessedValueWithLabel</th>\n",
       "      <th>PicturePath</th>\n",
       "      <th>...</th>\n",
       "      <th>MULTIPIN</th>\n",
       "      <th>OwnerAddress</th>\n",
       "      <th>OwnerCityState</th>\n",
       "      <th>OwnerZipCode</th>\n",
       "      <th>SHAPE.STArea()</th>\n",
       "      <th>SHAPE.STLength()</th>\n",
       "      <th>cvGIS.CITY.parcel_area.CreatedBy</th>\n",
       "      <th>cvGIS.CITY.parcel_area.CreatedDate</th>\n",
       "      <th>cvGIS.CITY.parcel_area.ModifiedBy</th>\n",
       "      <th>cvGIS.CITY.parcel_area.ModifiedDate</th>\n",
       "    </tr>\n",
       "  </thead>\n",
       "  <tbody>\n",
       "    <tr>\n",
       "      <th>0</th>\n",
       "      <td>0 3RD ST SE</td>\n",
       "      <td>24846953</td>\n",
       "      <td>280036300</td>\n",
       "      <td>7309</td>\n",
       "      <td>280036300</td>\n",
       "      <td>LITTLE MOOSE, LLC</td>\n",
       "      <td>204100</td>\n",
       "      <td>2019 Value:</td>\n",
       "      <td>2019 Value:  204,100</td>\n",
       "      <td>http://realestate.charlottesville.org/IMAGES\\P...</td>\n",
       "      <td>...</td>\n",
       "      <td>NaN</td>\n",
       "      <td>P O BOX 4226</td>\n",
       "      <td>CHARLOTTESVILLE VA</td>\n",
       "      <td>22905</td>\n",
       "      <td>1110.750</td>\n",
       "      <td>178.976929</td>\n",
       "      <td>NaN</td>\n",
       "      <td>NaN</td>\n",
       "      <td>NaN</td>\n",
       "      <td>NaN</td>\n",
       "    </tr>\n",
       "    <tr>\n",
       "      <th>1</th>\n",
       "      <td>0 E MARKET ST</td>\n",
       "      <td>24848655</td>\n",
       "      <td>330245100</td>\n",
       "      <td>14744</td>\n",
       "      <td>330245100</td>\n",
       "      <td>FIRST AND MAIN CHARLOTTESVILLE LLC</td>\n",
       "      <td>1122200</td>\n",
       "      <td>2019 Value:</td>\n",
       "      <td>2019 Value:  1,122,200</td>\n",
       "      <td>NaN</td>\n",
       "      <td>...</td>\n",
       "      <td>NaN</td>\n",
       "      <td>224 14TH STREET NW</td>\n",
       "      <td>CHARLOTTESVILLE VA</td>\n",
       "      <td>22903</td>\n",
       "      <td>11316.250</td>\n",
       "      <td>425.844859</td>\n",
       "      <td>NaN</td>\n",
       "      <td>NaN</td>\n",
       "      <td>NaN</td>\n",
       "      <td>NaN</td>\n",
       "    </tr>\n",
       "    <tr>\n",
       "      <th>2</th>\n",
       "      <td>0 W MARKET ST &amp; 2ND ST NW</td>\n",
       "      <td>24841086</td>\n",
       "      <td>330262000</td>\n",
       "      <td>6656</td>\n",
       "      <td>330262000</td>\n",
       "      <td>SPENCER, HAWES, ETAL, TR PROTICO PROP LD TR</td>\n",
       "      <td>418400</td>\n",
       "      <td>2019 Value:</td>\n",
       "      <td>2019 Value:  418,400</td>\n",
       "      <td>http://realestate.charlottesville.org/IMAGES\\P...</td>\n",
       "      <td>...</td>\n",
       "      <td>NaN</td>\n",
       "      <td>700 E HIGH ST</td>\n",
       "      <td>CHARLOTTESVILLE VA</td>\n",
       "      <td>22902</td>\n",
       "      <td>3802.250</td>\n",
       "      <td>254.696684</td>\n",
       "      <td>NaN</td>\n",
       "      <td>NaN</td>\n",
       "      <td>NaN</td>\n",
       "      <td>NaN</td>\n",
       "    </tr>\n",
       "    <tr>\n",
       "      <th>3</th>\n",
       "      <td>100 5TH ST SE</td>\n",
       "      <td>24845005</td>\n",
       "      <td>530065300</td>\n",
       "      <td>7426</td>\n",
       "      <td>530065300</td>\n",
       "      <td>MAIN, RALPH TR OF BLACK DUCK LD TR</td>\n",
       "      <td>664000</td>\n",
       "      <td>2019 Value:</td>\n",
       "      <td>2019 Value:  664,000</td>\n",
       "      <td>http://realestate.charlottesville.org/IMAGES\\P...</td>\n",
       "      <td>...</td>\n",
       "      <td>NaN</td>\n",
       "      <td>P O BOX 2378</td>\n",
       "      <td>CHARLOTTESVILLE VA</td>\n",
       "      <td>22902</td>\n",
       "      <td>787.375</td>\n",
       "      <td>118.075826</td>\n",
       "      <td>NaN</td>\n",
       "      <td>NaN</td>\n",
       "      <td>NaN</td>\n",
       "      <td>NaN</td>\n",
       "    </tr>\n",
       "    <tr>\n",
       "      <th>4</th>\n",
       "      <td>100 E MAIN ST</td>\n",
       "      <td>24839773</td>\n",
       "      <td>280020000</td>\n",
       "      <td>7021</td>\n",
       "      <td>280020000</td>\n",
       "      <td>ONE HUNDRED EAST MAIN LTD PART</td>\n",
       "      <td>1904200</td>\n",
       "      <td>2019 Value:</td>\n",
       "      <td>2019 Value:  1,904,200</td>\n",
       "      <td>http://realestate.charlottesville.org/IMAGES\\P...</td>\n",
       "      <td>...</td>\n",
       "      <td>NaN</td>\n",
       "      <td>MSC BOX 5186</td>\n",
       "      <td>CHARLOTTESVILLE VA</td>\n",
       "      <td>22905</td>\n",
       "      <td>5102.750</td>\n",
       "      <td>418.086500</td>\n",
       "      <td>NaN</td>\n",
       "      <td>NaN</td>\n",
       "      <td>NaN</td>\n",
       "      <td>NaN</td>\n",
       "    </tr>\n",
       "  </tbody>\n",
       "</table>\n",
       "<p>5 rows × 23 columns</p>\n",
       "</div>"
      ],
      "text/plain": [
       "                  FullAddress  OBJECTID        PIN   GPIN ParcelNumber  \\\n",
       "0                0 3RD ST SE   24846953  280036300   7309    280036300   \n",
       "1              0 E MARKET ST   24848655  330245100  14744    330245100   \n",
       "2  0 W MARKET ST & 2ND ST NW   24841086  330262000   6656    330262000   \n",
       "3              100 5TH ST SE   24845005  530065300   7426    530065300   \n",
       "4              100 E MAIN ST   24839773  280020000   7021    280020000   \n",
       "\n",
       "                                     OwnerName  CurrentAssessedValue  \\\n",
       "0                            LITTLE MOOSE, LLC                204100   \n",
       "1           FIRST AND MAIN CHARLOTTESVILLE LLC               1122200   \n",
       "2  SPENCER, HAWES, ETAL, TR PROTICO PROP LD TR                418400   \n",
       "3           MAIN, RALPH TR OF BLACK DUCK LD TR                664000   \n",
       "4               ONE HUNDRED EAST MAIN LTD PART               1904200   \n",
       "\n",
       "  CurrentTaxYear CurrentAssessedValueWithLabel  \\\n",
       "0    2019 Value:          2019 Value:  204,100   \n",
       "1    2019 Value:        2019 Value:  1,122,200   \n",
       "2    2019 Value:          2019 Value:  418,400   \n",
       "3    2019 Value:          2019 Value:  664,000   \n",
       "4    2019 Value:        2019 Value:  1,904,200   \n",
       "\n",
       "                                         PicturePath  ... MULTIPIN  \\\n",
       "0  http://realestate.charlottesville.org/IMAGES\\P...  ...      NaN   \n",
       "1                                                NaN  ...      NaN   \n",
       "2  http://realestate.charlottesville.org/IMAGES\\P...  ...      NaN   \n",
       "3  http://realestate.charlottesville.org/IMAGES\\P...  ...      NaN   \n",
       "4  http://realestate.charlottesville.org/IMAGES\\P...  ...      NaN   \n",
       "\n",
       "         OwnerAddress      OwnerCityState  OwnerZipCode SHAPE.STArea()  \\\n",
       "0        P O BOX 4226  CHARLOTTESVILLE VA         22905       1110.750   \n",
       "1  224 14TH STREET NW  CHARLOTTESVILLE VA         22903      11316.250   \n",
       "2       700 E HIGH ST  CHARLOTTESVILLE VA         22902       3802.250   \n",
       "3        P O BOX 2378  CHARLOTTESVILLE VA         22902        787.375   \n",
       "4        MSC BOX 5186  CHARLOTTESVILLE VA         22905       5102.750   \n",
       "\n",
       "  SHAPE.STLength() cvGIS.CITY.parcel_area.CreatedBy  \\\n",
       "0       178.976929                              NaN   \n",
       "1       425.844859                              NaN   \n",
       "2       254.696684                              NaN   \n",
       "3       118.075826                              NaN   \n",
       "4       418.086500                              NaN   \n",
       "\n",
       "   cvGIS.CITY.parcel_area.CreatedDate  cvGIS.CITY.parcel_area.ModifiedBy  \\\n",
       "0                                 NaN                                NaN   \n",
       "1                                 NaN                                NaN   \n",
       "2                                 NaN                                NaN   \n",
       "3                                 NaN                                NaN   \n",
       "4                                 NaN                                NaN   \n",
       "\n",
       "  cvGIS.CITY.parcel_area.ModifiedDate  \n",
       "0                                 NaN  \n",
       "1                                 NaN  \n",
       "2                                 NaN  \n",
       "3                                 NaN  \n",
       "4                                 NaN  \n",
       "\n",
       "[5 rows x 23 columns]"
      ]
     },
     "execution_count": 2,
     "metadata": {},
     "output_type": "execute_result"
    }
   ],
   "source": [
    "#Identify all rows in df where MULTIPIN column is not equal to 1\n",
    "not_multipin = df['MULTIPIN'] != 1\n",
    "#Create a new dataframe that only contains the rows identified in not_multipin\n",
    "df = df[not_multipin]\n",
    "df.head()"
   ]
  },
  {
   "cell_type": "markdown",
   "metadata": {},
   "source": [
    "## Access json file for parcel areas"
   ]
  },
  {
   "cell_type": "code",
   "execution_count": 3,
   "metadata": {},
   "outputs": [
    {
     "name": "stdout",
     "output_type": "stream",
     "text": [
      "https://gisweb.charlottesville.org/arcgis/rest/services/OpenData_1/MapServer/43/query?where=GPIN%20in%20(7309,14744,6656,7426,7021,6984,7197,6819,6876,7447,7029,6724,7511,7484,7042,7005,6807,7515,7543,6923,17202,7128,7541,7199,6805,7120,7111,6877,7047,6569,7053,6958,6674,7082,7037,6668,6930,7063,6666,7213,6740,7078,6897,7279,7091,6726,6966,7104,6806,6869,6633,6881,7272,7068,6703,6947,6832,6625,7141,6604,6696,7162,6393,6694,7171,6848,7346,6537,6662,6493,7017,7330,7025,6655,7033,6644,6861,6689,6267,7232,6979,6918,7059,6938,7249,7070,7259,7087,7096,7266,7103,7275,7308,7163,7510,7319,7329,7339,7185,7348,7072,7198,7358,7207,7374,7390,7441,7456,7471,7664,7482,7717,7507,7524,17098,17097,7184,7476)&outFields=*&outSR=4326&f=json\n"
     ]
    }
   ],
   "source": [
    "formatted_gpins = [str(x) for x in df['GPIN'].unique()]\n",
    "formatted_gpins = formatted_gpins\n",
    "formatted_gpins = ','.join(formatted_gpins)\n",
    "\n",
    "parcel_area_url = f\"https://gisweb.charlottesville.org/arcgis/rest/services/OpenData_1/MapServer/43/query?where=GPIN%20in%20({formatted_gpins})&outFields=*&outSR=4326&f=json\"\n",
    "\n",
    "print(parcel_area_url)"
   ]
  },
  {
   "cell_type": "markdown",
   "metadata": {},
   "source": [
    "## Preparing annual assessment data\n",
    "\n",
    "Charlottesville's Open Data Portal : http://opendata.charlottesville.org/\n",
    "\n",
    "Real Estate (All Assessments) Dataset : http://opendata.charlottesville.org/datasets/real-estate-all-assessments\n",
    "\n",
    "* On the Real Estate dataset page, in the upper right corner of the window under the map click the 'API Explorer' tab\n",
    "* Copy the Query URL link and augment the link to match your query\n",
    "* Use the augmented link to pull data directly from the Open Data portal using the code below"
   ]
  },
  {
   "cell_type": "code",
   "execution_count": 4,
   "metadata": {
    "scrolled": true
   },
   "outputs": [
    {
     "name": "stdout",
     "output_type": "stream",
     "text": [
      "<Response [200]>\n"
     ]
    }
   ],
   "source": [
    "# importing the requests library \n",
    "import requests\n",
    "\n",
    "formatted_pins = [f'%27{x}%27' for x in df['PIN'].unique()]\n",
    "formatted_pins_1 = formatted_pins\n",
    "formatted_pins_1 = ','.join(formatted_pins_1)\n",
    "\n",
    "url1 = f\"https://gisweb.charlottesville.org/arcgis/rest/services/OpenData_2/MapServer/2/query?where=UPPER(ParcelNumber)%20in%20({formatted_pins_1})%20&outFields=ParcelNumber,LandValue,ImprovementValue,TotalValue,TaxYear&outSR=4326&f=json\"\n",
    "\n",
    "r1 = requests.get(url1)\n",
    "\n",
    "d1 = r1.json()\n",
    "\n",
    "print(r1)"
   ]
  },
  {
   "cell_type": "markdown",
   "metadata": {},
   "source": [
    "After testing the requests.get(url), I can request up to 120 parcels at a time before recieving a 404 Error. I have 126 parcels of interest. I will break my request up into 2 parts, [:75] and [75:]."
   ]
  },
  {
   "cell_type": "markdown",
   "metadata": {},
   "source": [
    "## Create data series based on features and combine data frames into a single df"
   ]
  },
  {
   "cell_type": "code",
   "execution_count": 5,
   "metadata": {},
   "outputs": [],
   "source": [
    "df1 = pd.DataFrame(d1['features'])"
   ]
  },
  {
   "cell_type": "markdown",
   "metadata": {},
   "source": [
    "## Create a single data frame based on combined series data"
   ]
  },
  {
   "cell_type": "code",
   "execution_count": 6,
   "metadata": {},
   "outputs": [
    {
     "data": {
      "text/html": [
       "<div>\n",
       "<style scoped>\n",
       "    .dataframe tbody tr th:only-of-type {\n",
       "        vertical-align: middle;\n",
       "    }\n",
       "\n",
       "    .dataframe tbody tr th {\n",
       "        vertical-align: top;\n",
       "    }\n",
       "\n",
       "    .dataframe thead th {\n",
       "        text-align: right;\n",
       "    }\n",
       "</style>\n",
       "<table border=\"1\" class=\"dataframe\">\n",
       "  <thead>\n",
       "    <tr style=\"text-align: right;\">\n",
       "      <th></th>\n",
       "      <th>ImprovementValue</th>\n",
       "      <th>LandValue</th>\n",
       "      <th>ParcelNumber</th>\n",
       "      <th>TaxYear</th>\n",
       "      <th>TotalValue</th>\n",
       "    </tr>\n",
       "  </thead>\n",
       "  <tbody>\n",
       "    <tr>\n",
       "      <th>0</th>\n",
       "      <td>2924500</td>\n",
       "      <td>3039000</td>\n",
       "      <td>280001000</td>\n",
       "      <td>2019</td>\n",
       "      <td>5963500</td>\n",
       "    </tr>\n",
       "    <tr>\n",
       "      <th>1</th>\n",
       "      <td>2752000</td>\n",
       "      <td>2969100</td>\n",
       "      <td>280001000</td>\n",
       "      <td>2018</td>\n",
       "      <td>5721100</td>\n",
       "    </tr>\n",
       "    <tr>\n",
       "      <th>2</th>\n",
       "      <td>2826745</td>\n",
       "      <td>2969100</td>\n",
       "      <td>280001000</td>\n",
       "      <td>2017</td>\n",
       "      <td>5795845</td>\n",
       "    </tr>\n",
       "    <tr>\n",
       "      <th>3</th>\n",
       "      <td>1746300</td>\n",
       "      <td>2254200</td>\n",
       "      <td>280001000</td>\n",
       "      <td>2016</td>\n",
       "      <td>4000500</td>\n",
       "    </tr>\n",
       "    <tr>\n",
       "      <th>4</th>\n",
       "      <td>1746300</td>\n",
       "      <td>2049300</td>\n",
       "      <td>280001000</td>\n",
       "      <td>2015</td>\n",
       "      <td>3795600</td>\n",
       "    </tr>\n",
       "  </tbody>\n",
       "</table>\n",
       "</div>"
      ],
      "text/plain": [
       "   ImprovementValue  LandValue ParcelNumber  TaxYear  TotalValue\n",
       "0           2924500    3039000    280001000     2019     5963500\n",
       "1           2752000    2969100    280001000     2018     5721100\n",
       "2           2826745    2969100    280001000     2017     5795845\n",
       "3           1746300    2254200    280001000     2016     4000500\n",
       "4           1746300    2049300    280001000     2015     3795600"
      ]
     },
     "execution_count": 6,
     "metadata": {},
     "output_type": "execute_result"
    }
   ],
   "source": [
    "assessments = pd.DataFrame([x for x in df1['attributes']], dtype = 'object')\n",
    "assessments = assessments.astype({'TaxYear': 'int64', 'ImprovementValue': 'int64','LandValue': 'int64','TotalValue': 'int64', 'ParcelNumber': 'str'})\n",
    "assessments.head()"
   ]
  },
  {
   "cell_type": "markdown",
   "metadata": {},
   "source": [
    "## Create data frame from df that holds PIN and GPIN. Will be used to joined assessments, so that parcel area can be joined with assessments"
   ]
  },
  {
   "cell_type": "code",
   "execution_count": 7,
   "metadata": {},
   "outputs": [
    {
     "data": {
      "text/html": [
       "<div>\n",
       "<style scoped>\n",
       "    .dataframe tbody tr th:only-of-type {\n",
       "        vertical-align: middle;\n",
       "    }\n",
       "\n",
       "    .dataframe tbody tr th {\n",
       "        vertical-align: top;\n",
       "    }\n",
       "\n",
       "    .dataframe thead th {\n",
       "        text-align: right;\n",
       "    }\n",
       "</style>\n",
       "<table border=\"1\" class=\"dataframe\">\n",
       "  <thead>\n",
       "    <tr style=\"text-align: right;\">\n",
       "      <th></th>\n",
       "      <th>PIN</th>\n",
       "      <th>GPIN</th>\n",
       "    </tr>\n",
       "  </thead>\n",
       "  <tbody>\n",
       "    <tr>\n",
       "      <th>0</th>\n",
       "      <td>280036300</td>\n",
       "      <td>7309</td>\n",
       "    </tr>\n",
       "    <tr>\n",
       "      <th>1</th>\n",
       "      <td>330245100</td>\n",
       "      <td>14744</td>\n",
       "    </tr>\n",
       "    <tr>\n",
       "      <th>2</th>\n",
       "      <td>330262000</td>\n",
       "      <td>6656</td>\n",
       "    </tr>\n",
       "    <tr>\n",
       "      <th>3</th>\n",
       "      <td>530065300</td>\n",
       "      <td>7426</td>\n",
       "    </tr>\n",
       "    <tr>\n",
       "      <th>4</th>\n",
       "      <td>280020000</td>\n",
       "      <td>7021</td>\n",
       "    </tr>\n",
       "  </tbody>\n",
       "</table>\n",
       "</div>"
      ],
      "text/plain": [
       "         PIN   GPIN\n",
       "0  280036300   7309\n",
       "1  330245100  14744\n",
       "2  330262000   6656\n",
       "3  530065300   7426\n",
       "4  280020000   7021"
      ]
     },
     "execution_count": 7,
     "metadata": {},
     "output_type": "execute_result"
    }
   ],
   "source": [
    "df_key = pd.DataFrame(df[['PIN','GPIN']], dtype = 'str')\n",
    "df_key.head()"
   ]
  },
  {
   "cell_type": "code",
   "execution_count": 12,
   "metadata": {},
   "outputs": [
    {
     "name": "stdout",
     "output_type": "stream",
     "text": [
      "(2672, 5) (2672, 7)\n"
     ]
    }
   ],
   "source": [
    "d = pd.merge(assessments, df_key, how='inner', left_on=['ParcelNumber'], right_on=['PIN'])\n",
    "print(assessments.shape, d.shape)"
   ]
  },
  {
   "cell_type": "markdown",
   "metadata": {},
   "source": [
    "# Step 3: Analyze"
   ]
  },
  {
   "cell_type": "code",
   "execution_count": 50,
   "metadata": {},
   "outputs": [
    {
     "data": {
      "text/html": [
       "<div>\n",
       "<style scoped>\n",
       "    .dataframe tbody tr th:only-of-type {\n",
       "        vertical-align: middle;\n",
       "    }\n",
       "\n",
       "    .dataframe tbody tr th {\n",
       "        vertical-align: top;\n",
       "    }\n",
       "\n",
       "    .dataframe thead th {\n",
       "        text-align: right;\n",
       "    }\n",
       "</style>\n",
       "<table border=\"1\" class=\"dataframe\">\n",
       "  <thead>\n",
       "    <tr style=\"text-align: right;\">\n",
       "      <th></th>\n",
       "      <th>TaxYear</th>\n",
       "      <th>TotalValue</th>\n",
       "    </tr>\n",
       "  </thead>\n",
       "  <tbody>\n",
       "    <tr>\n",
       "      <th>0</th>\n",
       "      <td>[1997, 1998, 1999, 2000, 2001, 2002, 2003, 200...</td>\n",
       "      <td>[670309.649122807, 694225.4385964912, 737849.1...</td>\n",
       "    </tr>\n",
       "  </tbody>\n",
       "</table>\n",
       "</div>"
      ],
      "text/plain": [
       "                                             TaxYear  \\\n",
       "0  [1997, 1998, 1999, 2000, 2001, 2002, 2003, 200...   \n",
       "\n",
       "                                          TotalValue  \n",
       "0  [670309.649122807, 694225.4385964912, 737849.1...  "
      ]
     },
     "execution_count": 50,
     "metadata": {},
     "output_type": "execute_result"
    }
   ],
   "source": [
    "#Create data frame of assessed values for all parcels by specified year\n",
    "year_min = int(d['TaxYear'].min())\n",
    "year_max = int(d['TaxYear'].max())\n",
    "\n",
    "\n",
    "#year_col = [x for x in range(year_min, year_max + 1)]\n",
    "#total_val_col = [d['TotalValue'][d['TaxYear'] == x].mean() for x in range(year_min, year_max + 1)]\n",
    "mean_vals = pd.DataFrame([[year_col, total_val_col]], columns = ['TaxYear','TotalValue'], dtype = 'int64')\n",
    "#mean_vals = pd.DataFrame(columns = ['TotalValue', 'ImprovementValue', 'LandValue', 'TaxYear'])\n",
    "mean_vals\n",
    "\n",
    "#print(d[['TotalValue', 'ImprovementValue', 'LandValue', 'TaxYear' ]][d['TaxYear'] == x].mean())\n",
    "\n",
    "#x = d['ParcelNumber'].str.contains('2800371C0')\n",
    "#y = d[x].sort_values('TaxYear')\n",
    "#y.plot(x='TaxYear', y='TotalValue', figsize=(15,10), grid=True)"
   ]
  },
  {
   "cell_type": "code",
   "execution_count": 11,
   "metadata": {},
   "outputs": [
    {
     "data": {
      "text/plain": [
       "<matplotlib.axes._subplots.AxesSubplot at 0x71f8aa34c6a0>"
      ]
     },
     "execution_count": 11,
     "metadata": {},
     "output_type": "execute_result"
    },
    {
     "data": {
      "image/png": "[encoded data removed]",
      "text/plain": [
       "<Figure size 1080x720 with 1 Axes>"
      ]
     },
     "metadata": {
      "needs_background": "light"
     },
     "output_type": "display_data"
    }
   ],
   "source": [
    "#Plot single parcel by tax year vs total value\n",
    "\n",
    "x = d['ParcelNumber'].str.contains('2800371C0')\n",
    "y = d[x].sort_values('TaxYear')\n",
    "y.plot(x='TaxYear', y='TotalValue', figsize=(15,10), grid=True)"
   ]
  },
  {
   "cell_type": "markdown",
   "metadata": {},
   "source": [
    "print(\"\\nassessments['ParcelNumber'].describe()\\n\", assessments['ParcelNumber'].describe())\n",
    "\n",
    "print(\"\\nassessments['TaxYear'].describe()\\n\", assessments['TaxYear'].describe())\n",
    "\n",
    "print(\"\\nassessments['TaxYear'].min(), assessments['TaxYear'].max()\\n\", assessments['TaxYear'].min(), assessments['TaxYear'].max())\n",
    "\n",
    "print(\"\\nassessments['ImprovementValue'].describe()\\n\", assessments['ImprovementValue'].describe())\n",
    "\n",
    "print(\"\\nassessments['LandValue'].describe()\\n\", assessments['LandValue'].describe())\n",
    "\n",
    "print(\"\\nassessments['TotalValue'].describe()\\n\", assessments['TotalValue'].describe())"
   ]
  },
  {
   "cell_type": "markdown",
   "metadata": {},
   "source": [
    "taxyearmin = assessments['TaxYear'] == assessments['TaxYear'].min()\n",
    "assessments[taxyearmin].describe()"
   ]
  },
  {
   "cell_type": "markdown",
   "metadata": {
    "scrolled": true
   },
   "source": [
    "taxyearmax = assessments['TaxYear'] == assessments['TaxYear'].max()\n",
    "assessments[taxyearmax].describe()"
   ]
  },
  {
   "cell_type": "markdown",
   "metadata": {},
   "source": [
    "## assessments[taxyearmax].describe()-assessments[taxyearmin].describe()"
   ]
  },
  {
   "cell_type": "markdown",
   "metadata": {},
   "source": [
    "import folium\n",
    "\n",
    "print(parcel_area_url)\n",
    "\n",
    "m = folium.Map(location=[38.0309,-78.4804],tiles='Stamen Terrain',zoom_start=17)\n",
    "folium.GeoJson(parcel_area_url,name='Parcels', style_function=style_function).add_to(m)\n",
    "folium.LayerControl().add_to(m)\n",
    "m"
   ]
  },
  {
   "cell_type": "markdown",
   "metadata": {},
   "source": [
    "# Plot each parcels total, land, and improvement value across all years on 3 line graphs, one for each assessment type\n",
    "\n",
    "# Map the same data as above via folium\n",
    "\n",
    "# Create time lapse of maps"
   ]
  },
  {
   "cell_type": "code",
   "execution_count": null,
   "metadata": {},
   "outputs": [],
   "source": []
  }
 ],
 "metadata": {
  "kernelspec": {
   "display_name": "Python 3",
   "language": "python",
   "name": "python3"
  },
  "language_info": {
   "codemirror_mode": {
    "name": "ipython",
    "version": 3
   },
   "file_extension": ".py",
   "mimetype": "text/x-python",
   "name": "python",
   "nbconvert_exporter": "python",
   "pygments_lexer": "ipython3",
   "version": "3.7.3"
  }
 },
 "nbformat": 4,
 "nbformat_minor": 2
}
