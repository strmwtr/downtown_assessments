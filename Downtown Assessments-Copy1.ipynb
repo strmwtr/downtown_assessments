{
 "cells": [
  {
   "cell_type": "markdown",
   "metadata": {},
   "source": [
    "# Analyzing Assessed Value of the Downtown Mall"
   ]
  },
  {
   "cell_type": "code",
   "execution_count": 1,
   "metadata": {},
   "outputs": [],
   "source": [
    "from matplotlib import pyplot as plt\n",
    "import pandas as pd\n",
    "import requests\n",
    "import folium\n",
    "import geojson"
   ]
  },
  {
   "cell_type": "code",
   "execution_count": 2,
   "metadata": {},
   "outputs": [],
   "source": [
    "#Import .xls retrieved from the GIS Viewer into pandas\n",
    "\n",
    "#Path to the .xls retrieve from the GIS Viewer\n",
    "f = r'./data/mall_parcels_no_ends.xls'\n",
    "#Create a dataframe that reads the .xls file\n",
    "df = pd.read_excel(f)\n",
    "#Identify all rows in df where MULTIPIN column is not equal to 1\n",
    "not_multipin = df['MULTIPIN'] != 1\n",
    "#Create a new dataframe that only contains the rows identified in not_multipin\n",
    "df = df[not_multipin]"
   ]
  },
  {
   "cell_type": "code",
   "execution_count": 3,
   "metadata": {},
   "outputs": [],
   "source": [
    "## Create Query URL's for open portal data based on .xls data\n",
    "\n",
    "formatted_gpins = [str(x) for x in df['GPIN'].unique()]\n",
    "formatted_gpins = formatted_gpins\n",
    "formatted_gpins = ','.join(formatted_gpins)\n",
    "\n",
    "# Url for Parcel Area Boundary geojson data\n",
    "parcel_url = f'https://opendata.arcgis.com/datasets/320d465ddf0d498796da6491e21f6dde_43.geojson?where=GPIN%20in%20({formatted_gpins})'\n",
    "\n",
    "formatted_pins = [f'%27{x}%27' for x in df['PIN'].unique()]\n",
    "formatted_pins = formatted_pins\n",
    "formatted_pins = ','.join(formatted_pins)\n",
    "\n",
    "assessment_url = f\"https://gisweb.charlottesville.org/arcgis/rest/services/OpenData_2/MapServer/2/query?where=UPPER(ParcelNumber)%20in%20({formatted_pins})%20&outFields=ParcelNumber,LandValue,ImprovementValue,TotalValue,TaxYear&outSR=4326&f=json\"\n",
    "assessment_request = requests.get(assessment_url)\n",
    "assessment_json = assessment_request.json()"
   ]
  },
  {
   "cell_type": "code",
   "execution_count": 4,
   "metadata": {},
   "outputs": [
    {
     "data": {
      "text/html": [
       "<div>\n",
       "<style scoped>\n",
       "    .dataframe tbody tr th:only-of-type {\n",
       "        vertical-align: middle;\n",
       "    }\n",
       "\n",
       "    .dataframe tbody tr th {\n",
       "        vertical-align: top;\n",
       "    }\n",
       "\n",
       "    .dataframe thead th {\n",
       "        text-align: right;\n",
       "    }\n",
       "</style>\n",
       "<table border=\"1\" class=\"dataframe\">\n",
       "  <thead>\n",
       "    <tr style=\"text-align: right;\">\n",
       "      <th></th>\n",
       "      <th>TaxYear</th>\n",
       "      <th>TotalValue</th>\n",
       "      <th>PIN</th>\n",
       "      <th>GPIN</th>\n",
       "      <th>coordinates</th>\n",
       "    </tr>\n",
       "  </thead>\n",
       "  <tbody>\n",
       "    <tr>\n",
       "      <th>0</th>\n",
       "      <td>2019</td>\n",
       "      <td>5963500</td>\n",
       "      <td>280001000</td>\n",
       "      <td>6861</td>\n",
       "      <td>[[[-78.48280641299056, 38.03075462954861], [-7...</td>\n",
       "    </tr>\n",
       "    <tr>\n",
       "      <th>1</th>\n",
       "      <td>2018</td>\n",
       "      <td>5721100</td>\n",
       "      <td>280001000</td>\n",
       "      <td>6861</td>\n",
       "      <td>[[[-78.48280641299056, 38.03075462954861], [-7...</td>\n",
       "    </tr>\n",
       "    <tr>\n",
       "      <th>2</th>\n",
       "      <td>2017</td>\n",
       "      <td>5795845</td>\n",
       "      <td>280001000</td>\n",
       "      <td>6861</td>\n",
       "      <td>[[[-78.48280641299056, 38.03075462954861], [-7...</td>\n",
       "    </tr>\n",
       "    <tr>\n",
       "      <th>3</th>\n",
       "      <td>2016</td>\n",
       "      <td>4000500</td>\n",
       "      <td>280001000</td>\n",
       "      <td>6861</td>\n",
       "      <td>[[[-78.48280641299056, 38.03075462954861], [-7...</td>\n",
       "    </tr>\n",
       "    <tr>\n",
       "      <th>4</th>\n",
       "      <td>2015</td>\n",
       "      <td>3795600</td>\n",
       "      <td>280001000</td>\n",
       "      <td>6861</td>\n",
       "      <td>[[[-78.48280641299056, 38.03075462954861], [-7...</td>\n",
       "    </tr>\n",
       "  </tbody>\n",
       "</table>\n",
       "</div>"
      ],
      "text/plain": [
       "   TaxYear  TotalValue        PIN  GPIN  \\\n",
       "0     2019     5963500  280001000  6861   \n",
       "1     2018     5721100  280001000  6861   \n",
       "2     2017     5795845  280001000  6861   \n",
       "3     2016     4000500  280001000  6861   \n",
       "4     2015     3795600  280001000  6861   \n",
       "\n",
       "                                         coordinates  \n",
       "0  [[[-78.48280641299056, 38.03075462954861], [-7...  \n",
       "1  [[[-78.48280641299056, 38.03075462954861], [-7...  \n",
       "2  [[[-78.48280641299056, 38.03075462954861], [-7...  \n",
       "3  [[[-78.48280641299056, 38.03075462954861], [-7...  \n",
       "4  [[[-78.48280641299056, 38.03075462954861], [-7...  "
      ]
     },
     "execution_count": 4,
     "metadata": {},
     "output_type": "execute_result"
    }
   ],
   "source": [
    "# Convert geojson parcel boundary data to dataframe\n",
    "# Turn geojson data into dataframe\n",
    "geojson_df = pd.read_json(parcel_url)\n",
    "geojson_features_df = geojson_df['features']\n",
    "geojson_features_df_generator = (x for x in geojson_features_df)\n",
    "ft_list = []\n",
    "for x in geojson_features_df_generator:\n",
    "    ft_list.append([x['properties']['GPIN'],x['geometry']['coordinates']])\n",
    "geojson_df = pd.DataFrame(ft_list, columns = ['GPIN','coordinates'])\n",
    "ft_list = []\n",
    "geojson_df['GPIN_str'] = pd.DataFrame(geojson_df['GPIN'], dtype = 'str')\n",
    "geojson_df = geojson_df.drop('GPIN', axis = 1)\n",
    "geojson_df['GPIN'] = pd.DataFrame(geojson_df['GPIN_str'], dtype = 'str')\n",
    "geojson_df = geojson_df.drop('GPIN_str', axis = 1)\n",
    "#------------\n",
    "# Create data series based on features and combine data frames into a single df\n",
    "assessment_df = pd.DataFrame(assessment_json['features'])\n",
    "# Create a single data frame based on combined series data\n",
    "assessments = pd.DataFrame([x for x in assessment_df['attributes']], dtype = 'object')\n",
    "assessments = assessments.astype({'TaxYear': 'int64', 'ImprovementValue': 'int64','LandValue': 'int64','TotalValue': 'int64', 'ParcelNumber': 'str'})\n",
    "assessments = assessments.drop(['ImprovementValue', 'LandValue'], axis=1)\n",
    "#----------------\n",
    "#Create data frame from df that holds PIN and GPIN.\n",
    "df_key = pd.DataFrame(df[['PIN','GPIN']], dtype = 'str')\n",
    "#----------------\n",
    "# Merge df_key with assessments\n",
    "d = pd.merge(assessments, df_key, how='inner', left_on=['ParcelNumber'], right_on=['PIN'])\n",
    "#----------------\n",
    "## Merge geojson_df with d\n",
    "geojson_assessment_df = d.merge(geojson_df, on = 'GPIN')\n",
    "geojson_assessment_df = geojson_assessment_df.drop(['ParcelNumber'], axis=1)\n",
    "geojson_assessment_df.head()"
   ]
  },
  {
   "cell_type": "code",
   "execution_count": 5,
   "metadata": {},
   "outputs": [],
   "source": [
    "#Store year_min, max, and a generator of years into variables\n",
    "year_min = int(geojson_assessment_df['TaxYear'].min())\n",
    "year_max = int(geojson_assessment_df['TaxYear'].max())\n",
    "years = (x for x in range(year_min, year_max+1))"
   ]
  },
  {
   "cell_type": "code",
   "execution_count": 6,
   "metadata": {},
   "outputs": [
    {
     "ename": "AttributeError",
     "evalue": "module 'folium' has no attribute 'plugins'",
     "output_type": "error",
     "traceback": [
      "\u001b[0;31m---------------------------------------------------------------------------\u001b[0m",
      "\u001b[0;31mAttributeError\u001b[0m                            Traceback (most recent call last)",
      "\u001b[0;32m<ipython-input-6-670e6604f055>\u001b[0m in \u001b[0;36m<module>\u001b[0;34m\u001b[0m\n\u001b[1;32m     16\u001b[0m \u001b[0mm\u001b[0m \u001b[0;34m=\u001b[0m \u001b[0mfolium\u001b[0m\u001b[0;34m.\u001b[0m\u001b[0mMap\u001b[0m\u001b[0;34m(\u001b[0m\u001b[0mlocation\u001b[0m\u001b[0;34m=\u001b[0m\u001b[0;34m[\u001b[0m\u001b[0;36m38.03090\u001b[0m\u001b[0;34m,\u001b[0m \u001b[0;34m-\u001b[0m\u001b[0;36m78.48044\u001b[0m\u001b[0;34m]\u001b[0m\u001b[0;34m,\u001b[0m \u001b[0mzoom_start\u001b[0m\u001b[0;34m=\u001b[0m\u001b[0;36m17\u001b[0m\u001b[0;34m,\u001b[0m \u001b[0mtiles\u001b[0m\u001b[0;34m=\u001b[0m\u001b[0;34m'OpenStreetMap'\u001b[0m\u001b[0;34m)\u001b[0m\u001b[0;34m\u001b[0m\u001b[0;34m\u001b[0m\u001b[0m\n\u001b[1;32m     17\u001b[0m \u001b[0;31m#folium.GeoJson(r'./map1.geojson',name='geojson').add_to(m)\u001b[0m\u001b[0;34m\u001b[0m\u001b[0;34m\u001b[0m\u001b[0;34m\u001b[0m\u001b[0m\n\u001b[0;32m---> 18\u001b[0;31m \u001b[0mfolium\u001b[0m\u001b[0;34m.\u001b[0m\u001b[0mplugins\u001b[0m\u001b[0;34m.\u001b[0m\u001b[0mTimeSliderChoropleth\u001b[0m\u001b[0;34m(\u001b[0m\u001b[0;34mr'./map1.geojson'\u001b[0m\u001b[0;34m,\u001b[0m \u001b[0mstyledict\u001b[0m\u001b[0;34m,\u001b[0m \u001b[0mname\u001b[0m\u001b[0;34m=\u001b[0m\u001b[0;34m'Time Slider Demo'\u001b[0m\u001b[0;34m,\u001b[0m \u001b[0moverlay\u001b[0m\u001b[0;34m=\u001b[0m\u001b[0;32mTrue\u001b[0m\u001b[0;34m,\u001b[0m \u001b[0mcontrol\u001b[0m\u001b[0;34m=\u001b[0m\u001b[0;32mTrue\u001b[0m\u001b[0;34m,\u001b[0m \u001b[0mshow\u001b[0m\u001b[0;34m=\u001b[0m\u001b[0;32mTrue\u001b[0m\u001b[0;34m)\u001b[0m\u001b[0;34m\u001b[0m\u001b[0;34m\u001b[0m\u001b[0m\n\u001b[0m\u001b[1;32m     19\u001b[0m \u001b[0mm\u001b[0m\u001b[0;34m\u001b[0m\u001b[0;34m\u001b[0m\u001b[0m\n",
      "\u001b[0;31mAttributeError\u001b[0m: module 'folium' has no attribute 'plugins'"
     ]
    }
   ],
   "source": [
    "# Use this to create a new geojson dataset for map application\n",
    "\n",
    "#https://gis.stackexchange.com/questions/220997/pandas-to-geojson-multiples-points-features-with-python\n",
    "def data2geojson(df):\n",
    "    features = []\n",
    "    insert_features = lambda X: features.append(\n",
    "            geojson.Feature(geometry=geojson.Polygon((X[\"coordinates\"]),\n",
    "                            properties=dict(name=X[\"GPIN\"],\n",
    "                            description=X[\"TotalValue\"]))))\n",
    "    df.apply(insert_features, axis=1)\n",
    "    with open('map1.geojson', 'w', encoding='utf8') as fp:\n",
    "        geojson.dump(geojson.FeatureCollection(features), fp, sort_keys=True, ensure_ascii=False)\n",
    "\n",
    "data2geojson(geojson_assessment_df)\n",
    "\n",
    "m = folium.Map(location=[38.03090, -78.48044], zoom_start=17, tiles='OpenStreetMap')\n",
    "#folium.GeoJson(r'./map1.geojson',name='geojson').add_to(m)\n",
    "folium.plugins.TimeSliderChoropleth(r'./map1.geojson', styledict, name='Time Slider Demo', overlay=True, control=True, show=True)\n",
    "m"
   ]
  },
  {
   "cell_type": "code",
   "execution_count": null,
   "metadata": {},
   "outputs": [],
   "source": [
    "def all_values_by_year(year):\n",
    "    all_values_df = geojson_assessment_df[geojson_assessment_df['TaxYear'] == year]\n",
    "    all_values_df = all_values_df.astype({'GPIN': 'int', 'TotalValue': 'int'})\n",
    "    return all_values_df"
   ]
  },
  {
   "cell_type": "code",
   "execution_count": null,
   "metadata": {},
   "outputs": [],
   "source": [
    "## Map assessed value by year\n",
    "def choropleth_assessed_val_by_year(year):\n",
    "    m = folium.Map(location=[38.03090, -78.48044], zoom_start=17, tiles='OpenStreetMap')\n",
    "    folium.Choropleth(\n",
    "        geo_data = parcel_url,\n",
    "        data=all_values_by_year(year)[['GPIN', 'TotalValue']],\n",
    "        columns=['GPIN', 'TotalValue'], \n",
    "        key_on='feature.properties.GPIN', \n",
    "        bins=[0, 250000, 500000, 1000000, 2000000, 5000000, 10000000, 16000000],\n",
    "        fill_color= 'YlOrRd',\n",
    "        nan_fill_color='black', \n",
    "        fill_opacity=0.9, \n",
    "        nan_fill_opacity=1, \n",
    "        line_color='black', \n",
    "        line_weight=1, \n",
    "        line_opacity=1, \n",
    "        name='Assessed Value',\n",
    "        legend_name= f'Total Assessed Value {year}'\n",
    "    ).add_to(m)\n",
    "    return(m)\n",
    "\n",
    "choropleth_assessed_val_by_year(2019)"
   ]
  }
 ],
 "metadata": {
  "kernelspec": {
   "display_name": "dt_venv",
   "language": "python",
   "name": "dt_venv"
  },
  "language_info": {
   "codemirror_mode": {
    "name": "ipython",
    "version": 3
   },
   "file_extension": ".py",
   "mimetype": "text/x-python",
   "name": "python",
   "nbconvert_exporter": "python",
   "pygments_lexer": "ipython3",
   "version": "3.7.3"
  }
 },
 "nbformat": 4,
 "nbformat_minor": 2
}
