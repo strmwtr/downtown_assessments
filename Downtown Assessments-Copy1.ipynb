{
 "cells": [
  {
   "cell_type": "markdown",
   "metadata": {},
   "source": [
    "# Analyzing Assessed Value of the Downtown Mall"
   ]
  },
  {
   "cell_type": "markdown",
   "metadata": {},
   "source": [
    "# Step 1: Aquire Data"
   ]
  },
  {
   "cell_type": "markdown",
   "metadata": {},
   "source": [
    "# Step 2: Prepare Data"
   ]
  },
  {
   "cell_type": "code",
   "execution_count": 1,
   "metadata": {},
   "outputs": [],
   "source": [
    "from matplotlib import pyplot as plt\n",
    "import pandas as pd\n",
    "import requests\n",
    "import folium\n",
    "\n",
    "%matplotlib inline"
   ]
  },
  {
   "cell_type": "markdown",
   "metadata": {},
   "source": [
    "## Import .xls retrieved from the GIS Viewer into pandas"
   ]
  },
  {
   "cell_type": "code",
   "execution_count": 2,
   "metadata": {},
   "outputs": [],
   "source": [
    "#Path to the .xls retrieve from the GIS Viewer\n",
    "f = r'./data/mall_parcels_no_ends.xls'\n",
    "#Create a dataframe that reads the .xls file\n",
    "df = pd.read_excel(f)\n",
    "#Identify all rows in df where MULTIPIN column is not equal to 1\n",
    "not_multipin = df['MULTIPIN'] != 1\n",
    "#Create a new dataframe that only contains the rows identified in not_multipin\n",
    "df = df[not_multipin]"
   ]
  },
  {
   "cell_type": "markdown",
   "metadata": {},
   "source": [
    "## Access geojson data for parcel area boundaries"
   ]
  },
  {
   "cell_type": "code",
   "execution_count": 3,
   "metadata": {},
   "outputs": [],
   "source": [
    "formatted_gpins = [str(x) for x in df['GPIN'].unique()]\n",
    "formatted_gpins = formatted_gpins\n",
    "formatted_gpins = ','.join(formatted_gpins)\n",
    "\n",
    "# Url for Parcel Area Boundary geojson data\n",
    "parcel_url = f'https://opendata.arcgis.com/datasets/320d465ddf0d498796da6491e21f6dde_43.geojson?where=GPIN%20in%20({formatted_gpins})'"
   ]
  },
  {
   "cell_type": "code",
   "execution_count": 4,
   "metadata": {},
   "outputs": [],
   "source": [
    "# Turn geojson data into dataframe\n",
    "geojson_df = pd.read_json(parcel_url)\n",
    "geojson_features_df = geojson_df['features']\n",
    "geojson_features_df_generator = (x for x in geojson_features_df)\n",
    "ft_list = []\n",
    "for x in geojson_features_df_generator:\n",
    "    ft_list.append([x['properties']['GPIN'],x['geometry']['coordinates']])\n",
    "geojson_df = pd.DataFrame(ft_list, columns = ['GPIN','coordinates'])\n",
    "ft_list = []\n",
    "geojson_df['GPIN_str'] = pd.DataFrame(geojson_df['GPIN'], dtype = 'str')\n",
    "geojson_df = geojson_df.drop('GPIN', axis = 1)\n",
    "geojson_df['GPIN'] = pd.DataFrame(geojson_df['GPIN_str'], dtype = 'str')\n",
    "geojson_df = geojson_df.drop('GPIN_str', axis = 1)\n",
    "\n",
    "# --- Works, don't delete it --- Merge assessment data df to geojson_df\n",
    "#z = temp_df.merge(geojson_df, left_on = 'GPIN', right_on = 'GPIN_str')\n",
    "#z"
   ]
  },
  {
   "cell_type": "markdown",
   "metadata": {},
   "source": [
    "## Access json annual assessment data"
   ]
  },
  {
   "cell_type": "code",
   "execution_count": 5,
   "metadata": {
    "scrolled": true
   },
   "outputs": [],
   "source": [
    "formatted_pins = [f'%27{x}%27' for x in df['PIN'].unique()]\n",
    "formatted_pins_1 = formatted_pins\n",
    "formatted_pins_1 = ','.join(formatted_pins_1)\n",
    "\n",
    "assessment_url = f\"https://gisweb.charlottesville.org/arcgis/rest/services/OpenData_2/MapServer/2/query?where=UPPER(ParcelNumber)%20in%20({formatted_pins_1})%20&outFields=ParcelNumber,LandValue,ImprovementValue,TotalValue,TaxYear&outSR=4326&f=json\"\n",
    "\n",
    "assessment_request = requests.get(assessment_url)\n",
    "\n",
    "d1 = assessment_request.json()"
   ]
  },
  {
   "cell_type": "code",
   "execution_count": 6,
   "metadata": {},
   "outputs": [
    {
     "ename": "KeyError",
     "evalue": "'features'",
     "output_type": "error",
     "traceback": [
      "\u001b[0;31m---------------------------------------------------------------------------\u001b[0m",
      "\u001b[0;31mKeyError\u001b[0m                                  Traceback (most recent call last)",
      "\u001b[0;32m<ipython-input-6-658e4d08cf4f>\u001b[0m in \u001b[0;36m<module>\u001b[0;34m\u001b[0m\n\u001b[1;32m      1\u001b[0m \u001b[0;31m# Create data series based on features and combine data frames into a single df\u001b[0m\u001b[0;34m\u001b[0m\u001b[0;34m\u001b[0m\u001b[0;34m\u001b[0m\u001b[0m\n\u001b[0;32m----> 2\u001b[0;31m \u001b[0mdf1\u001b[0m \u001b[0;34m=\u001b[0m \u001b[0mpd\u001b[0m\u001b[0;34m.\u001b[0m\u001b[0mDataFrame\u001b[0m\u001b[0;34m(\u001b[0m\u001b[0md1\u001b[0m\u001b[0;34m[\u001b[0m\u001b[0;34m'features'\u001b[0m\u001b[0;34m]\u001b[0m\u001b[0;34m)\u001b[0m\u001b[0;34m\u001b[0m\u001b[0;34m\u001b[0m\u001b[0m\n\u001b[0m\u001b[1;32m      3\u001b[0m \u001b[0;31m# Create a single data frame based on combined series data\u001b[0m\u001b[0;34m\u001b[0m\u001b[0;34m\u001b[0m\u001b[0;34m\u001b[0m\u001b[0m\n\u001b[1;32m      4\u001b[0m \u001b[0massessments\u001b[0m \u001b[0;34m=\u001b[0m \u001b[0mpd\u001b[0m\u001b[0;34m.\u001b[0m\u001b[0mDataFrame\u001b[0m\u001b[0;34m(\u001b[0m\u001b[0;34m[\u001b[0m\u001b[0mx\u001b[0m \u001b[0;32mfor\u001b[0m \u001b[0mx\u001b[0m \u001b[0;32min\u001b[0m \u001b[0mdf1\u001b[0m\u001b[0;34m[\u001b[0m\u001b[0;34m'attributes'\u001b[0m\u001b[0;34m]\u001b[0m\u001b[0;34m]\u001b[0m\u001b[0;34m,\u001b[0m \u001b[0mdtype\u001b[0m \u001b[0;34m=\u001b[0m \u001b[0;34m'object'\u001b[0m\u001b[0;34m)\u001b[0m\u001b[0;34m\u001b[0m\u001b[0;34m\u001b[0m\u001b[0m\n\u001b[1;32m      5\u001b[0m \u001b[0massessments\u001b[0m \u001b[0;34m=\u001b[0m \u001b[0massessments\u001b[0m\u001b[0;34m.\u001b[0m\u001b[0mastype\u001b[0m\u001b[0;34m(\u001b[0m\u001b[0;34m{\u001b[0m\u001b[0;34m'TaxYear'\u001b[0m\u001b[0;34m:\u001b[0m \u001b[0;34m'int64'\u001b[0m\u001b[0;34m,\u001b[0m \u001b[0;34m'ImprovementValue'\u001b[0m\u001b[0;34m:\u001b[0m \u001b[0;34m'int64'\u001b[0m\u001b[0;34m,\u001b[0m\u001b[0;34m'LandValue'\u001b[0m\u001b[0;34m:\u001b[0m \u001b[0;34m'int64'\u001b[0m\u001b[0;34m,\u001b[0m\u001b[0;34m'TotalValue'\u001b[0m\u001b[0;34m:\u001b[0m \u001b[0;34m'int64'\u001b[0m\u001b[0;34m,\u001b[0m \u001b[0;34m'ParcelNumber'\u001b[0m\u001b[0;34m:\u001b[0m \u001b[0;34m'str'\u001b[0m\u001b[0;34m}\u001b[0m\u001b[0;34m)\u001b[0m\u001b[0;34m\u001b[0m\u001b[0;34m\u001b[0m\u001b[0m\n",
      "\u001b[0;31mKeyError\u001b[0m: 'features'"
     ]
    }
   ],
   "source": [
    "# Create data series based on features and combine data frames into a single df\n",
    "df1 = pd.DataFrame(d1['features'])\n",
    "# Create a single data frame based on combined series data\n",
    "assessments = pd.DataFrame([x for x in df1['attributes']], dtype = 'object')\n",
    "assessments = assessments.astype({'TaxYear': 'int64', 'ImprovementValue': 'int64','LandValue': 'int64','TotalValue': 'int64', 'ParcelNumber': 'str'})"
   ]
  },
  {
   "cell_type": "markdown",
   "metadata": {},
   "source": [
    "## Create data frame from df that holds PIN and GPIN. Will be used to joined assessments, so that parcel area can be joined with assessments"
   ]
  },
  {
   "cell_type": "code",
   "execution_count": null,
   "metadata": {},
   "outputs": [],
   "source": [
    "df_key = pd.DataFrame(df[['PIN','GPIN']], dtype = 'str')"
   ]
  },
  {
   "cell_type": "code",
   "execution_count": null,
   "metadata": {},
   "outputs": [],
   "source": [
    "d = pd.merge(assessments, df_key, how='inner', left_on=['ParcelNumber'], right_on=['PIN'])"
   ]
  },
  {
   "cell_type": "code",
   "execution_count": null,
   "metadata": {},
   "outputs": [],
   "source": [
    "#Create data frame of assessed values for all parcels by specified year\n",
    "year_min = int(d['TaxYear'].min())\n",
    "year_max = int(d['TaxYear'].max())\n",
    "years = (x for x in range(year_min, year_max+1))\n",
    "#total_val_col = d['TotalValue'][d['TaxYear'] == 2019].mean()\n",
    "assessment_chart_list = []\n",
    "for x in years:\n",
    "    year_col = x\n",
    "    land_col_mean = d['LandValue'][d['TaxYear'] == x].mean()\n",
    "    imp_col_mean = d['ImprovementValue'][d['TaxYear'] == x].mean()\n",
    "    total_col_mean = d['TotalValue'][d['TaxYear'] == x].mean()\n",
    "    \n",
    "    land_col_min = d['LandValue'][d['TaxYear'] == x].min()\n",
    "    imp_col_min = d['ImprovementValue'][d['TaxYear'] == x].min()\n",
    "    total_col_min = d['TotalValue'][d['TaxYear'] == x].min()\n",
    "    \n",
    "    land_col_max = d['LandValue'][d['TaxYear'] == x].max()\n",
    "    imp_col_max = d['ImprovementValue'][d['TaxYear'] == x].max()\n",
    "    total_col_max = d['TotalValue'][d['TaxYear'] == x].max()\n",
    "    \n",
    "    assessment_chart_list.append(\n",
    "        [year_col, land_col_mean, imp_col_mean, total_col_mean, land_col_min, imp_col_min, \n",
    "         total_col_min, land_col_max, imp_col_max, total_col_max])\n",
    "assessment_chart_cols = ['Tax Year', 'Mean Land Value', 'Mean Improvement Value', 'Mean Total Value',\n",
    "    'Min Land Value', 'Min Improvement Value', 'Min Total Value', 'Max Land Value', 'Max Improvement Value', \n",
    "    'Max Total Value']\n",
    "assessment_chart_df = pd.DataFrame(assessment_chart_list, columns = assessment_chart_cols)"
   ]
  },
  {
   "cell_type": "markdown",
   "metadata": {},
   "source": [
    "# Step 3: Analyze"
   ]
  },
  {
   "cell_type": "code",
   "execution_count": null,
   "metadata": {},
   "outputs": [],
   "source": [
    "def total_value_by_year(year):\n",
    "    tv_df = d[['GPIN','TotalValue']][d['TaxYear'] == year]\n",
    "    tv_df = tv_df.astype({'GPIN': 'int', 'TotalValue': 'int'})\n",
    "    return tv_df"
   ]
  },
  {
   "cell_type": "markdown",
   "metadata": {},
   "source": [
    "# Step 4: Report"
   ]
  },
  {
   "cell_type": "markdown",
   "metadata": {},
   "source": [
    "## Plot Values over time"
   ]
  },
  {
   "cell_type": "code",
   "execution_count": null,
   "metadata": {},
   "outputs": [],
   "source": [
    "plt.plot(assessment_chart_df['Tax Year'], assessment_chart_df['Min Total Value'], linestyle = '--', color = '#000000', label='Min Total Value')\n",
    "plt.plot(assessment_chart_df['Tax Year'], assessment_chart_df['Mean Total Value'], linestyle = '-', color = '#000000', label='Mean Total Value')\n",
    "plt.plot(assessment_chart_df['Tax Year'], assessment_chart_df['Max Total Value'], linestyle = '-.', color = '#000000', label='Max Total Value')\n",
    "\n",
    "plt.plot(assessment_chart_df['Tax Year'], assessment_chart_df['Min Land Value'], linestyle = '--', color = '#41966d',  label='Min Land Value')\n",
    "plt.plot(assessment_chart_df['Tax Year'], assessment_chart_df['Mean Land Value'], linestyle = '-', color = '#41966d', label='Mean Land Value')\n",
    "plt.plot(assessment_chart_df['Tax Year'], assessment_chart_df['Max Land Value'],  linestyle = '-.', color = '#41966d', label='Max Land Value')\n",
    "\n",
    "plt.plot(assessment_chart_df['Tax Year'], assessment_chart_df['Min Improvement Value'], linestyle = '--', color = '#ff0000', label='Min Improvement Value')\n",
    "plt.plot(assessment_chart_df['Tax Year'], assessment_chart_df['Mean Improvement Value'], linestyle = '-', color = '#ff0000', label='Mean Improvement Value')\n",
    "plt.plot(assessment_chart_df['Tax Year'], assessment_chart_df['Max Improvement Value'], linestyle = '-.', color = '#ff0000', label='Max Improvement Value')\n",
    "\n",
    "plt.title('Assessed Value by Year')\n",
    "plt.xlabel('Tax Years')\n",
    "plt.ylabel('Assessment Value (10 Millions)')\n",
    "\n",
    "plt.xticks(range(assessment_chart_df['Tax Year'].min(), assessment_chart_df['Tax Year'].max()+1), rotation=270)\n",
    "plt.yticks(range(0, int(assessment_chart_df['Max Total Value'].max()), 5000000))\n",
    "\n",
    "plt.legend(fontsize = 'small')\n",
    "plt.savefig('plot.png', dpi=300, edgecolor = 'w', orientation='landscape')"
   ]
  },
  {
   "cell_type": "markdown",
   "metadata": {},
   "source": [
    "## Map assessed value by year"
   ]
  },
  {
   "cell_type": "code",
   "execution_count": null,
   "metadata": {},
   "outputs": [],
   "source": [
    "def choropleth_assessed_val_by_year(year):\n",
    "    m = folium.Map(location=[38.03090, -78.48044], zoom_start=17, tiles='OpenStreetMap')\n",
    "    folium.Choropleth(\n",
    "        geo_data = parcel_url,\n",
    "        data=total_value_by_year(year),\n",
    "        columns=['GPIN', 'TotalValue'], \n",
    "        key_on='feature.properties.GPIN', \n",
    "        bins=[0, 250000, 500000, 1000000, 2000000, 5000000, 10000000, 16000000],\n",
    "        fill_color= 'YlOrRd',\n",
    "        nan_fill_color='black', \n",
    "        fill_opacity=0.9, \n",
    "        nan_fill_opacity=1, \n",
    "        line_color='black', \n",
    "        line_weight=1, \n",
    "        line_opacity=1, \n",
    "        name='Assessed Value',\n",
    "        legend_name= f'Total Assessed Value {year}'\n",
    "    ).add_to(m)\n",
    "    return(m)\n",
    "\n",
    "choropleth_assessed_val_by_year(2019)"
   ]
  },
  {
   "cell_type": "markdown",
   "metadata": {},
   "source": [
    "# Use this to create a new geojson dataset for map application"
   ]
  },
  {
   "cell_type": "code",
   "execution_count": null,
   "metadata": {},
   "outputs": [],
   "source": [
    "#https://gis.stackexchange.com/questions/220997/pandas-to-geojson-multiples-points-features-with-python\n",
    "import geojson\n",
    "\n",
    "def data2geojson(df):\n",
    "    features = []\n",
    "    insert_features = lambda X: features.append(\n",
    "            geojson.Feature(geometry=geojson.Point((X[\"long\"],\n",
    "                                                    X[\"lat\"],\n",
    "                                                    X[\"elev\"])),\n",
    "                            properties=dict(name=X[\"name\"],\n",
    "                                            description=X[\"description\"])))\n",
    "    df.apply(insert_features, axis=1)\n",
    "    with open('map1.geojson', 'w', encoding='utf8') as fp:\n",
    "        geojson.dump(geojson.FeatureCollection(features), fp, sort_keys=True, ensure_ascii=False)\n",
    "\n",
    "col = ['lat','long','elev','name','description']\n",
    "data = [[-29.9953,-70.5867,760,'A','Place ñ'],\n",
    "        [-30.1217,-70.4933,1250,'B','Place b'],\n",
    "        [-30.0953,-70.5008,1185,'C','Place c']]\n",
    "\n",
    "df = pd.DataFrame(data, columns=col)\n",
    "\n",
    "data2geojson(df)"
   ]
  },
  {
   "cell_type": "markdown",
   "metadata": {},
   "source": [
    "- Take geojson, put it into a df\n",
    "- Take json assessment by year, put it into a df\n",
    "- Merge both together\n",
    "- Turn this dataset back into geojson data using the function from se\n",
    "- Write a function that returns subset of data by year\n",
    "- Create chart of assessed parcel value over time\n",
    "- Create a map of assessed parcel value over time"
   ]
  },
  {
   "cell_type": "code",
   "execution_count": null,
   "metadata": {},
   "outputs": [],
   "source": []
  }
 ],
 "metadata": {
  "kernelspec": {
   "display_name": "Python 3",
   "language": "python",
   "name": "python3"
  },
  "language_info": {
   "codemirror_mode": {
    "name": "ipython",
    "version": 3
   },
   "file_extension": ".py",
   "mimetype": "text/x-python",
   "name": "python",
   "nbconvert_exporter": "python",
   "pygments_lexer": "ipython3",
   "version": "3.7.3"
  }
 },
 "nbformat": 4,
 "nbformat_minor": 2
}
